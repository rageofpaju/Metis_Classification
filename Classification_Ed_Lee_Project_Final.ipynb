{
 "cells": [
  {
   "cell_type": "markdown",
   "id": "b076df3e",
   "metadata": {},
   "source": [
    "### Importing libraries"
   ]
  },
  {
   "cell_type": "code",
   "execution_count": 1,
   "id": "25a0d7c8",
   "metadata": {},
   "outputs": [],
   "source": [
    "import pandas as pd\n",
    "import numpy as np\n",
    "import matplotlib.pyplot as plt\n",
    "import seaborn as sns\n",
    "import plotly as ply\n",
    "\n",
    "# Preprocessing module\n",
    "from sklearn.preprocessing import StandardScaler, LabelEncoder, OneHotEncoder\n",
    "\n",
    "# Tuners\n",
    "from sklearn.utils import class_weight\n",
    "from sklearn.model_selection import train_test_split, GridSearchCV\n",
    "\n",
    "# Classifiers\n",
    "from sklearn.neighbors import KNeighborsClassifier\n",
    "from sklearn.linear_model import LogisticRegression\n",
    "from sklearn.ensemble import RandomForestClassifier\n",
    "from sklearn.naive_bayes import BernoulliNB, MultinomialNB, GaussianNB\n",
    "from sklearn.ensemble import AdaBoostClassifier\n",
    "from xgboost import XGBClassifier\n",
    "\n",
    "# Metrics modules\n",
    "from sklearn.metrics import roc_curve, roc_auc_score\n",
    "from sklearn.metrics import precision_recall_curve\n",
    "from sklearn.metrics import confusion_matrix\n",
    "from sklearn.metrics import log_loss\n",
    "from sklearn.metrics import accuracy_score, precision_score, recall_score, f1_score\n",
    "\n",
    "import shap\n",
    "\n",
    "import dill"
   ]
  },
  {
   "cell_type": "code",
   "execution_count": 2,
   "id": "e7fc82b8",
   "metadata": {},
   "outputs": [],
   "source": [
    "# found out this lets pandas to display all columns in a dataframe\n",
    "pd.set_option('display.max_columns', None)"
   ]
  },
  {
   "cell_type": "code",
   "execution_count": 164,
   "id": "1f0901ce",
   "metadata": {},
   "outputs": [],
   "source": [
    "#dill.dump_session('final.db')"
   ]
  },
  {
   "cell_type": "code",
   "execution_count": 2,
   "id": "53ea8806",
   "metadata": {},
   "outputs": [],
   "source": [
    "#dill.load_session('final.db')"
   ]
  },
  {
   "cell_type": "markdown",
   "id": "69719d43",
   "metadata": {},
   "source": [
    "### A bunch of functions I've used for the project."
   ]
  },
  {
   "cell_type": "code",
   "execution_count": 3,
   "id": "ac737521",
   "metadata": {},
   "outputs": [],
   "source": [
    "# it is named lr_analysis, but it can actually be used for other classifiers as well. \n",
    "\n",
    "def lr_analysis(solver, x, y, modelname=''):\n",
    "    solver.fit(x, y)\n",
    "    model_score = solver.score(x, y)\n",
    "    print('==============================================================================================================')\n",
    "    print(f'Analysis of the Model {modelname} ')\n",
    "    print('-------------------------------------------------------------------')\n",
    "\n",
    "    print(f'- Model Score : {model_score}')\n",
    "        \n",
    "    model_pred = solver.predict(x) \n",
    "    model_soft_pred = solver.predict_proba(x)\n",
    "    loss_func = log_loss(y, model_soft_pred)\n",
    "    print(f'- Cost Function: {loss_func}')\n",
    "    print('\\n')\n",
    "    print(f'- Hard classification of the model {modelname}: {model_pred}')\n",
    "    print(f'- Soft classfication of the model {modelname}: {model_soft_pred}')\n",
    "    print('--------------------------------------------------------------------------------------------------------------')\n",
    "    acc = accuracy_score(y, model_pred)\n",
    "    pcs = precision_score(y, model_pred)\n",
    "    rec = recall_score(y, model_pred)\n",
    "    f1s = f1_score(y, model_pred)\n",
    "        \n",
    "    print(f'Classification metrics of the model {modelname}')\n",
    "    print('- Accuracy: ', acc)\n",
    "    print('- Precision: ', pcs)\n",
    "    print('- Recall: ', rec)\n",
    "    print('- F1 Score: ', f1s)\n",
    "    print('==============================================================================================================')\n",
    "    return model_soft_pred, model_score, model_pred, acc, pcs, rec, f1s"
   ]
  },
  {
   "cell_type": "code",
   "execution_count": 4,
   "id": "85feea24",
   "metadata": {},
   "outputs": [],
   "source": [
    "# Function for evaluating metrics only\n",
    " \n",
    "def get_metrics(act, pred):\n",
    "    print('Accuracy: ', accuracy_score(act, pred))\n",
    "    print('Precision: ', precision_score(act, pred))\n",
    "    print('Recall: ', recall_score(act, pred))\n",
    "    print('F1 Score: ', f1_score(act, pred))\n",
    "    return"
   ]
  },
  {
   "cell_type": "code",
   "execution_count": 83,
   "id": "6e38df0d",
   "metadata": {},
   "outputs": [],
   "source": [
    "# Plots a single ROC curve\n",
    "\n",
    "def plot_roc(model_name, y_act, y_pred_prob):\n",
    "    \n",
    "    f = plt.figure()\n",
    "    f.set_figwidth(12)\n",
    "    f.set_figheight(7)\n",
    "    \n",
    "    fpr, tpr, thresholds = roc_curve(y_act, y_pred_prob[0][:,1])\n",
    "    \n",
    "    plt.plot(fpr, tpr, lw='5', color='navy')\n",
    "    plt.plot([0,1], [0,1], color='red', ls='dashed', lw='1')\n",
    "\n",
    "    plt.xlim([0,1])\n",
    "    plt.ylim([0,1])\n",
    "    plt.xlabel('FP')\n",
    "    plt.ylabel('TP')\n",
    "    plt.grid(ls=':', lw='0.5')\n",
    "    \n",
    "    plt.savefig(f'{model_name}.png')\n",
    "    \n",
    "    plt.show()\n",
    "    \n",
    "    print(f'ROC AUC for [{model_name}] model is: {roc_auc_score(y_act, y_pred_prob[0][:,1])}')\n",
    "    return fpr, tpr, thresholds"
   ]
  },
  {
   "cell_type": "code",
   "execution_count": 6,
   "id": "b9ba55ca",
   "metadata": {},
   "outputs": [],
   "source": [
    "# Just a function for plotting a simple confusion matrix\n",
    "\n",
    "def testmodel_cm_maker(model, cm_threshold):\n",
    "    cm_thr = model[0][:,1] >= cm_threshold\n",
    "    cm = confusion_matrix(y_test, cm_thr)\n",
    "    \n",
    "    hm = sns.heatmap(cm, annot=True, cmap='Reds', fmt='d',\n",
    "    xticklabels=['Paid In Full', 'Charged-off'],\n",
    "    yticklabels=['Paid In Full', 'Charged-off'])\n",
    "    hm.set(xlabel='Predicted', ylabel='Actual')"
   ]
  },
  {
   "cell_type": "code",
   "execution_count": 7,
   "id": "405176a4",
   "metadata": {},
   "outputs": [],
   "source": [
    "# Compares how much a model has improved(deteriorated) the prediction scores compared to another model \n",
    "\n",
    "def metric_comp(model1, model2, model1_name='Base Model',model2_name='Tuned Model'):\n",
    "    \n",
    "    model1_metrics = []\n",
    "    model2_metrics = []\n",
    "    \n",
    "    for i in range(len(model1)):\n",
    "        model1_metrics.append(model1[i])\n",
    "    \n",
    "    for i in range(len(model2)):\n",
    "        model2_metrics.append(model2[i])\n",
    "    \n",
    "# Prints whole bunch of differences in metrics bet. two models. \n",
    "    print('======================================================================================================')\n",
    "    print(f'Comparing model score of [{model2_name}] with the base model [{model1_name}] ')\n",
    "    print('------------------------------------------------------------------------------------------------------')\n",
    "    print(f'\\u0394Score: {model2_metrics[1]-model1_metrics[1]}')\n",
    "    print(f'\\u0394Accuracy: {model2_metrics[3]-model1_metrics[3]}')\n",
    "    print(f'\\u0394Precision: {model2_metrics[4]-model1_metrics[4]}')\n",
    "    print(f'\\u0394Recall: {model2_metrics[5]-model1_metrics[5]}')\n",
    "    print(f'\\u0394F1: {model2_metrics[6]-model1_metrics[6]}')\n",
    "    print('======================================================================================================')"
   ]
  },
  {
   "cell_type": "markdown",
   "id": "55643607",
   "metadata": {},
   "source": [
    "# 1. EDA & Data Cleaning"
   ]
  },
  {
   "cell_type": "markdown",
   "id": "c15ccc9b",
   "metadata": {},
   "source": [
    "#### -First of all, this is  what the names of each feature implies\n",
    "\n",
    "Variable Name&emsp;&emsp;&emsp;&emsp;&emsp;&emsp;&emsp;&emsp;Description <br>\n",
    "LoanNr_ChkDgt&emsp;&emsp;&emsp;&emsp;&emsp;&emsp;&emsp;&emsp;Identifier Primary key<br>\n",
    "Name&emsp;&emsp;&emsp;&emsp;&emsp;&emsp;&emsp;&emsp;Borrower name<br>\n",
    "City&emsp;&emsp;&emsp;&emsp;&emsp;&emsp;&emsp;&emsp;Borrower city<br>\n",
    "State&emsp;&emsp;&emsp;&emsp;&emsp;&emsp;&emsp;&emsp;Borrower state<br>\n",
    "Zip&emsp;&emsp;&emsp;&emsp;&emsp;&emsp;&emsp;&emsp;\tBorrower zip code<br>\n",
    "Bank&emsp;&emsp;&emsp;&emsp;&emsp;&emsp;&emsp;&emsp;Bank name<br>\n",
    "BankState&emsp;&emsp;&emsp;&emsp;&emsp;&emsp;&emsp;&emsp;Bank state<br>\n",
    "NAICS&emsp;&emsp;&emsp;&emsp;&emsp;&emsp;&emsp;&emsp;North American industry classification system code<br>\n",
    "ApprovalDate&emsp;&emsp;&emsp;&emsp;&emsp;&emsp;&emsp;&emsp;Date SBA commitment issued<br>\n",
    "ApprovalFY&emsp;&emsp;&emsp;&emsp;&emsp;&emsp;&emsp;&emsp;Fiscal year of commitment<br>\n",
    "Term&emsp;&emsp;&emsp;&emsp;&emsp;&emsp;&emsp;&emsp;Loan term in months<br>\n",
    "NoEmp&emsp;&emsp;&emsp;&emsp;&emsp;&emsp;&emsp;&emsp;Number of business employees<br>\n",
    "NewExist&emsp;&emsp;&emsp;&emsp;&emsp;&emsp;&emsp;&emsp;1 = Existing business, 2 = New business<br>\n",
    "CreateJob&emsp;&emsp;&emsp;&emsp;&emsp;&emsp;&emsp;&emsp;Number of jobs created<br>\n",
    "RetainedJob&emsp;&emsp;&emsp;&emsp;&emsp;&emsp;&emsp;&emsp;Number of jobs retained<br>\n",
    "FranchiseCode&emsp;&emsp;&emsp;&emsp;&emsp;&emsp;&emsp;&emsp;Franchise code, (00000 or 00001) = No franchise<br>\n",
    "UrbanRural&emsp;&emsp;&emsp;&emsp;&emsp;&emsp;&emsp;&emsp;1 = Urban, 2 = rural, 0 = undefined<br>\n",
    "RevLineCr&emsp;&emsp;&emsp;&emsp;&emsp;&emsp;&emsp;&emsp;Revolving line of credit: Y = Yes, N = No<br>\n",
    "LowDoc&emsp;&emsp;&emsp;&emsp;&emsp;&emsp;&emsp;&emsp;LowDoc Loan Program: Y = Yes, N = No<br>\n",
    "ChgOffDate&emsp;&emsp;&emsp;&emsp;&emsp;&emsp;&emsp;&emsp;The date when a loan is declared to be in default<br>\n",
    "DisbursementDate&emsp;&emsp;&emsp;&emsp;&emsp;&emsp;&emsp;&emsp;Disbursement date<br>\n",
    "DisbursementGross&emsp;&emsp;&emsp;&emsp;&emsp;&emsp;&emsp;&emsp;Amount disbursed<br>\n",
    "BalanceGross&emsp;&emsp;&emsp;&emsp;&emsp;&emsp;&emsp;&emsp;Gross amount outstanding<br>\n",
    "MIS_Status&emsp;&emsp;&emsp;&emsp;&emsp;&emsp;&emsp;&emsp;Loan status charged off = CHGOFF, Paid in full =PIF<br>\n",
    "ChgOffPrinGr&emsp;&emsp;&emsp;&emsp;&emsp;&emsp;&emsp;&emsp;Charged-off amount<br>\n",
    "GrAppv&emsp;&emsp;&emsp;&emsp;&emsp;&emsp;&emsp;&emsp;Gross amount of loan approved by bank<br>\n",
    "SBA_Appv&emsp;&emsp;&emsp;&emsp;&emsp;&emsp;&emsp;&emsp;SBA’s guaranteed amount of approved loan<br>"
   ]
  },
  {
   "cell_type": "code",
   "execution_count": 13,
   "id": "45714fe5",
   "metadata": {},
   "outputs": [
    {
     "name": "stderr",
     "output_type": "stream",
     "text": [
      "Columns (9) have mixed types.Specify dtype option on import or set low_memory=False.\n"
     ]
    }
   ],
   "source": [
    "sba = pd.read_csv('SBAnational.csv')"
   ]
  },
  {
   "cell_type": "code",
   "execution_count": 14,
   "id": "8fd29c36",
   "metadata": {},
   "outputs": [],
   "source": [
    "sba_backup = sba.copy()"
   ]
  },
  {
   "cell_type": "code",
   "execution_count": 15,
   "id": "cc77a62d",
   "metadata": {},
   "outputs": [],
   "source": [
    "# In case of screw-up, run this code\n",
    "#sba = sba_backup.copy()"
   ]
  },
  {
   "cell_type": "code",
   "execution_count": 16,
   "id": "c1376003",
   "metadata": {},
   "outputs": [
    {
     "data": {
      "text/html": [
       "<div>\n",
       "<style scoped>\n",
       "    .dataframe tbody tr th:only-of-type {\n",
       "        vertical-align: middle;\n",
       "    }\n",
       "\n",
       "    .dataframe tbody tr th {\n",
       "        vertical-align: top;\n",
       "    }\n",
       "\n",
       "    .dataframe thead th {\n",
       "        text-align: right;\n",
       "    }\n",
       "</style>\n",
       "<table border=\"1\" class=\"dataframe\">\n",
       "  <thead>\n",
       "    <tr style=\"text-align: right;\">\n",
       "      <th></th>\n",
       "      <th>LoanNr_ChkDgt</th>\n",
       "      <th>Name</th>\n",
       "      <th>City</th>\n",
       "      <th>State</th>\n",
       "      <th>Zip</th>\n",
       "      <th>Bank</th>\n",
       "      <th>BankState</th>\n",
       "      <th>NAICS</th>\n",
       "      <th>ApprovalDate</th>\n",
       "      <th>ApprovalFY</th>\n",
       "      <th>Term</th>\n",
       "      <th>NoEmp</th>\n",
       "      <th>NewExist</th>\n",
       "      <th>CreateJob</th>\n",
       "      <th>RetainedJob</th>\n",
       "      <th>FranchiseCode</th>\n",
       "      <th>UrbanRural</th>\n",
       "      <th>RevLineCr</th>\n",
       "      <th>LowDoc</th>\n",
       "      <th>ChgOffDate</th>\n",
       "      <th>DisbursementDate</th>\n",
       "      <th>DisbursementGross</th>\n",
       "      <th>BalanceGross</th>\n",
       "      <th>MIS_Status</th>\n",
       "      <th>ChgOffPrinGr</th>\n",
       "      <th>GrAppv</th>\n",
       "      <th>SBA_Appv</th>\n",
       "    </tr>\n",
       "  </thead>\n",
       "  <tbody>\n",
       "    <tr>\n",
       "      <th>520884</th>\n",
       "      <td>5041905000</td>\n",
       "      <td>MD ENT, INC</td>\n",
       "      <td>MANHATTAN</td>\n",
       "      <td>KS</td>\n",
       "      <td>66502</td>\n",
       "      <td>COMMUNITY FIRST NATIONAL BANK</td>\n",
       "      <td>KS</td>\n",
       "      <td>492110</td>\n",
       "      <td>19-Jan-12</td>\n",
       "      <td>2012</td>\n",
       "      <td>18</td>\n",
       "      <td>1</td>\n",
       "      <td>2.0</td>\n",
       "      <td>0</td>\n",
       "      <td>1</td>\n",
       "      <td>0</td>\n",
       "      <td>2</td>\n",
       "      <td>N</td>\n",
       "      <td>N</td>\n",
       "      <td>NaN</td>\n",
       "      <td>19-Jan-12</td>\n",
       "      <td>$10,500.00</td>\n",
       "      <td>$0.00</td>\n",
       "      <td>P I F</td>\n",
       "      <td>$0.00</td>\n",
       "      <td>$10,500.00</td>\n",
       "      <td>$5,250.00</td>\n",
       "    </tr>\n",
       "    <tr>\n",
       "      <th>357087</th>\n",
       "      <td>3488184010</td>\n",
       "      <td>BASKINS ROBBINS</td>\n",
       "      <td>BALTIMORE</td>\n",
       "      <td>MD</td>\n",
       "      <td>21234</td>\n",
       "      <td>REGAL BANK &amp; TRUST</td>\n",
       "      <td>MD</td>\n",
       "      <td>0</td>\n",
       "      <td>21-Dec-99</td>\n",
       "      <td>2000</td>\n",
       "      <td>84</td>\n",
       "      <td>3</td>\n",
       "      <td>2.0</td>\n",
       "      <td>0</td>\n",
       "      <td>0</td>\n",
       "      <td>1</td>\n",
       "      <td>1</td>\n",
       "      <td>0</td>\n",
       "      <td>Y</td>\n",
       "      <td>NaN</td>\n",
       "      <td>30-Sep-00</td>\n",
       "      <td>$60,000.00</td>\n",
       "      <td>$0.00</td>\n",
       "      <td>P I F</td>\n",
       "      <td>$0.00</td>\n",
       "      <td>$60,000.00</td>\n",
       "      <td>$48,000.00</td>\n",
       "    </tr>\n",
       "    <tr>\n",
       "      <th>263183</th>\n",
       "      <td>2841714000</td>\n",
       "      <td>GREGORY MARKETING CORP.</td>\n",
       "      <td>SAN ANTONIO</td>\n",
       "      <td>TX</td>\n",
       "      <td>78217</td>\n",
       "      <td>JEFFERSON BANK</td>\n",
       "      <td>TX</td>\n",
       "      <td>0</td>\n",
       "      <td>18-Mar-99</td>\n",
       "      <td>1999</td>\n",
       "      <td>60</td>\n",
       "      <td>6</td>\n",
       "      <td>1.0</td>\n",
       "      <td>0</td>\n",
       "      <td>0</td>\n",
       "      <td>1</td>\n",
       "      <td>0</td>\n",
       "      <td>0</td>\n",
       "      <td>Y</td>\n",
       "      <td>NaN</td>\n",
       "      <td>30-Jun-99</td>\n",
       "      <td>$120,000.00</td>\n",
       "      <td>$0.00</td>\n",
       "      <td>P I F</td>\n",
       "      <td>$0.00</td>\n",
       "      <td>$120,000.00</td>\n",
       "      <td>$90,000.00</td>\n",
       "    </tr>\n",
       "    <tr>\n",
       "      <th>277552</th>\n",
       "      <td>2927205008</td>\n",
       "      <td>E &amp; L Multisales Distribution</td>\n",
       "      <td>MIAMI</td>\n",
       "      <td>FL</td>\n",
       "      <td>33145</td>\n",
       "      <td>BANK OF AMERICA NATL ASSOC</td>\n",
       "      <td>NC</td>\n",
       "      <td>423920</td>\n",
       "      <td>29-Jan-08</td>\n",
       "      <td>2008</td>\n",
       "      <td>42</td>\n",
       "      <td>7</td>\n",
       "      <td>1.0</td>\n",
       "      <td>0</td>\n",
       "      <td>7</td>\n",
       "      <td>0</td>\n",
       "      <td>1</td>\n",
       "      <td>N</td>\n",
       "      <td>N</td>\n",
       "      <td>20-Oct-09</td>\n",
       "      <td>29-Feb-08</td>\n",
       "      <td>$50,000.00</td>\n",
       "      <td>$0.00</td>\n",
       "      <td>CHGOFF</td>\n",
       "      <td>$40,835.00</td>\n",
       "      <td>$50,000.00</td>\n",
       "      <td>$25,000.00</td>\n",
       "    </tr>\n",
       "    <tr>\n",
       "      <th>249918</th>\n",
       "      <td>2758856009</td>\n",
       "      <td>CHARLES LATZKE</td>\n",
       "      <td>GAYLORD</td>\n",
       "      <td>MN</td>\n",
       "      <td>55334</td>\n",
       "      <td>KLEINBANK</td>\n",
       "      <td>MN</td>\n",
       "      <td>611110</td>\n",
       "      <td>17-Apr-07</td>\n",
       "      <td>2007</td>\n",
       "      <td>7</td>\n",
       "      <td>2</td>\n",
       "      <td>1.0</td>\n",
       "      <td>3</td>\n",
       "      <td>2</td>\n",
       "      <td>1</td>\n",
       "      <td>2</td>\n",
       "      <td>0</td>\n",
       "      <td>N</td>\n",
       "      <td>20-Feb-14</td>\n",
       "      <td>31-May-07</td>\n",
       "      <td>$59,800.00</td>\n",
       "      <td>$0.00</td>\n",
       "      <td>CHGOFF</td>\n",
       "      <td>$20,152.00</td>\n",
       "      <td>$59,800.00</td>\n",
       "      <td>$50,830.00</td>\n",
       "    </tr>\n",
       "  </tbody>\n",
       "</table>\n",
       "</div>"
      ],
      "text/plain": [
       "        LoanNr_ChkDgt                           Name         City State  \\\n",
       "520884     5041905000                    MD ENT, INC    MANHATTAN    KS   \n",
       "357087     3488184010                BASKINS ROBBINS    BALTIMORE    MD   \n",
       "263183     2841714000        GREGORY MARKETING CORP.  SAN ANTONIO    TX   \n",
       "277552     2927205008  E & L Multisales Distribution        MIAMI    FL   \n",
       "249918     2758856009                 CHARLES LATZKE      GAYLORD    MN   \n",
       "\n",
       "          Zip                           Bank BankState   NAICS ApprovalDate  \\\n",
       "520884  66502  COMMUNITY FIRST NATIONAL BANK        KS  492110    19-Jan-12   \n",
       "357087  21234             REGAL BANK & TRUST        MD       0    21-Dec-99   \n",
       "263183  78217                 JEFFERSON BANK        TX       0    18-Mar-99   \n",
       "277552  33145     BANK OF AMERICA NATL ASSOC        NC  423920    29-Jan-08   \n",
       "249918  55334                      KLEINBANK        MN  611110    17-Apr-07   \n",
       "\n",
       "       ApprovalFY  Term  NoEmp  NewExist  CreateJob  RetainedJob  \\\n",
       "520884       2012    18      1       2.0          0            1   \n",
       "357087       2000    84      3       2.0          0            0   \n",
       "263183       1999    60      6       1.0          0            0   \n",
       "277552       2008    42      7       1.0          0            7   \n",
       "249918       2007     7      2       1.0          3            2   \n",
       "\n",
       "        FranchiseCode  UrbanRural RevLineCr LowDoc ChgOffDate  \\\n",
       "520884              0           2         N      N        NaN   \n",
       "357087              1           1         0      Y        NaN   \n",
       "263183              1           0         0      Y        NaN   \n",
       "277552              0           1         N      N  20-Oct-09   \n",
       "249918              1           2         0      N  20-Feb-14   \n",
       "\n",
       "       DisbursementDate DisbursementGross BalanceGross MIS_Status  \\\n",
       "520884        19-Jan-12       $10,500.00        $0.00       P I F   \n",
       "357087        30-Sep-00       $60,000.00        $0.00       P I F   \n",
       "263183        30-Jun-99      $120,000.00        $0.00       P I F   \n",
       "277552        29-Feb-08       $50,000.00        $0.00      CHGOFF   \n",
       "249918        31-May-07       $59,800.00        $0.00      CHGOFF   \n",
       "\n",
       "       ChgOffPrinGr        GrAppv     SBA_Appv  \n",
       "520884       $0.00    $10,500.00    $5,250.00   \n",
       "357087       $0.00    $60,000.00   $48,000.00   \n",
       "263183       $0.00   $120,000.00   $90,000.00   \n",
       "277552  $40,835.00    $50,000.00   $25,000.00   \n",
       "249918  $20,152.00    $59,800.00   $50,830.00   "
      ]
     },
     "execution_count": 16,
     "metadata": {},
     "output_type": "execute_result"
    }
   ],
   "source": [
    "sba_backup.sample(5)"
   ]
  },
  {
   "cell_type": "code",
   "execution_count": 17,
   "id": "73db2d7d",
   "metadata": {},
   "outputs": [],
   "source": [
    "sba['ApprovalFY'] = pd.to_datetime(sba['ApprovalFY'].astype(str), errors='coerce')\n",
    "sba['ApprovalDate'] = pd.to_datetime(sba['ApprovalDate'].astype(str), errors='coerce')"
   ]
  },
  {
   "cell_type": "code",
   "execution_count": 18,
   "id": "0930b707",
   "metadata": {},
   "outputs": [
    {
     "name": "stdout",
     "output_type": "stream",
     "text": [
      "<class 'pandas.core.frame.DataFrame'>\n",
      "RangeIndex: 899164 entries, 0 to 899163\n",
      "Data columns (total 27 columns):\n",
      " #   Column             Non-Null Count   Dtype         \n",
      "---  ------             --------------   -----         \n",
      " 0   LoanNr_ChkDgt      899164 non-null  int64         \n",
      " 1   Name               899150 non-null  object        \n",
      " 2   City               899134 non-null  object        \n",
      " 3   State              899150 non-null  object        \n",
      " 4   Zip                899164 non-null  int64         \n",
      " 5   Bank               897605 non-null  object        \n",
      " 6   BankState          897598 non-null  object        \n",
      " 7   NAICS              899164 non-null  int64         \n",
      " 8   ApprovalDate       899164 non-null  datetime64[ns]\n",
      " 9   ApprovalFY         899146 non-null  datetime64[ns]\n",
      " 10  Term               899164 non-null  int64         \n",
      " 11  NoEmp              899164 non-null  int64         \n",
      " 12  NewExist           899028 non-null  float64       \n",
      " 13  CreateJob          899164 non-null  int64         \n",
      " 14  RetainedJob        899164 non-null  int64         \n",
      " 15  FranchiseCode      899164 non-null  int64         \n",
      " 16  UrbanRural         899164 non-null  int64         \n",
      " 17  RevLineCr          894636 non-null  object        \n",
      " 18  LowDoc             896582 non-null  object        \n",
      " 19  ChgOffDate         162699 non-null  object        \n",
      " 20  DisbursementDate   896796 non-null  object        \n",
      " 21  DisbursementGross  899164 non-null  object        \n",
      " 22  BalanceGross       899164 non-null  object        \n",
      " 23  MIS_Status         897167 non-null  object        \n",
      " 24  ChgOffPrinGr       899164 non-null  object        \n",
      " 25  GrAppv             899164 non-null  object        \n",
      " 26  SBA_Appv           899164 non-null  object        \n",
      "dtypes: datetime64[ns](2), float64(1), int64(9), object(15)\n",
      "memory usage: 185.2+ MB\n"
     ]
    }
   ],
   "source": [
    "sba.info()"
   ]
  },
  {
   "cell_type": "markdown",
   "id": "73318e9c",
   "metadata": {},
   "source": [
    "## Cleaning the data"
   ]
  },
  {
   "cell_type": "markdown",
   "id": "ef872724",
   "metadata": {},
   "source": [
    "### The data is pretty big. First, I am going to check whether null values exist.\n",
    "- Note: Charge-off Date must be made an exception because loans that were paid in full have null values for ChgOffDate"
   ]
  },
  {
   "cell_type": "code",
   "execution_count": 19,
   "id": "225303cb",
   "metadata": {},
   "outputs": [
    {
     "data": {
      "text/plain": [
       "LoanNr_ChkDgt             0\n",
       "Name                     14\n",
       "City                     30\n",
       "State                    14\n",
       "Zip                       0\n",
       "Bank                   1559\n",
       "BankState              1566\n",
       "NAICS                     0\n",
       "ApprovalDate              0\n",
       "ApprovalFY               18\n",
       "Term                      0\n",
       "NoEmp                     0\n",
       "NewExist                136\n",
       "CreateJob                 0\n",
       "RetainedJob               0\n",
       "FranchiseCode             0\n",
       "UrbanRural                0\n",
       "RevLineCr              4528\n",
       "LowDoc                 2582\n",
       "ChgOffDate           736465\n",
       "DisbursementDate       2368\n",
       "DisbursementGross         0\n",
       "BalanceGross              0\n",
       "MIS_Status             1997\n",
       "ChgOffPrinGr              0\n",
       "GrAppv                    0\n",
       "SBA_Appv                  0\n",
       "dtype: int64"
      ]
     },
     "execution_count": 19,
     "metadata": {},
     "output_type": "execute_result"
    }
   ],
   "source": [
    "pd.isna(sba).sum()"
   ]
  },
  {
   "cell_type": "markdown",
   "id": "f413a970",
   "metadata": {},
   "source": [
    "There are tons of NaNs! Dropping all the rows that have missing values for any of the following columns."
   ]
  },
  {
   "cell_type": "code",
   "execution_count": 20,
   "id": "d77c87bb",
   "metadata": {},
   "outputs": [],
   "source": [
    "sba = sba.dropna(subset=['Name', 'City', 'State', 'Bank',\n",
    "                   'BankState', 'ApprovalFY', 'NewExist', 'RevLineCr',\n",
    "                   'LowDoc', 'DisbursementDate', \"MIS_Status\"])"
   ]
  },
  {
   "cell_type": "code",
   "execution_count": 21,
   "id": "8e0d7219",
   "metadata": {},
   "outputs": [
    {
     "data": {
      "text/plain": [
       "LoanNr_ChkDgt             0\n",
       "Name                      0\n",
       "City                      0\n",
       "State                     0\n",
       "Zip                       0\n",
       "Bank                      0\n",
       "BankState                 0\n",
       "NAICS                     0\n",
       "ApprovalDate              0\n",
       "ApprovalFY                0\n",
       "Term                      0\n",
       "NoEmp                     0\n",
       "NewExist                  0\n",
       "CreateJob                 0\n",
       "RetainedJob               0\n",
       "FranchiseCode             0\n",
       "UrbanRural                0\n",
       "RevLineCr                 0\n",
       "LowDoc                    0\n",
       "ChgOffDate           725369\n",
       "DisbursementDate          0\n",
       "DisbursementGross         0\n",
       "BalanceGross              0\n",
       "MIS_Status                0\n",
       "ChgOffPrinGr              0\n",
       "GrAppv                    0\n",
       "SBA_Appv                  0\n",
       "dtype: int64"
      ]
     },
     "execution_count": 21,
     "metadata": {},
     "output_type": "execute_result"
    }
   ],
   "source": [
    "#Checking that the missing values, with the charge off date as an exception, are succcesfully dropped.\n",
    "pd.isna(sba).sum()"
   ]
  },
  {
   "cell_type": "markdown",
   "id": "ebd19dfa",
   "metadata": {},
   "source": [
    "Now I will drop the columns that seem  unimportant for this analysis."
   ]
  },
  {
   "cell_type": "code",
   "execution_count": 22,
   "id": "2562dd0b",
   "metadata": {},
   "outputs": [],
   "source": [
    "# Note: if you have time, add your rationales for dropping said columns\n",
    "\n",
    "sba = sba.drop(['LoanNr_ChkDgt', 'Name', 'Bank',\n",
    "                'BankState', 'ChgOffDate', 'DisbursementDate', \n",
    "                'BalanceGross','ChgOffPrinGr'], axis=1)"
   ]
  },
  {
   "cell_type": "code",
   "execution_count": 23,
   "id": "63029d62",
   "metadata": {},
   "outputs": [
    {
     "name": "stdout",
     "output_type": "stream",
     "text": [
      "<class 'pandas.core.frame.DataFrame'>\n",
      "Int64Index: 886225 entries, 0 to 899163\n",
      "Data columns (total 19 columns):\n",
      " #   Column             Non-Null Count   Dtype         \n",
      "---  ------             --------------   -----         \n",
      " 0   City               886225 non-null  object        \n",
      " 1   State              886225 non-null  object        \n",
      " 2   Zip                886225 non-null  int64         \n",
      " 3   NAICS              886225 non-null  int64         \n",
      " 4   ApprovalDate       886225 non-null  datetime64[ns]\n",
      " 5   ApprovalFY         886225 non-null  datetime64[ns]\n",
      " 6   Term               886225 non-null  int64         \n",
      " 7   NoEmp              886225 non-null  int64         \n",
      " 8   NewExist           886225 non-null  float64       \n",
      " 9   CreateJob          886225 non-null  int64         \n",
      " 10  RetainedJob        886225 non-null  int64         \n",
      " 11  FranchiseCode      886225 non-null  int64         \n",
      " 12  UrbanRural         886225 non-null  int64         \n",
      " 13  RevLineCr          886225 non-null  object        \n",
      " 14  LowDoc             886225 non-null  object        \n",
      " 15  DisbursementGross  886225 non-null  object        \n",
      " 16  MIS_Status         886225 non-null  object        \n",
      " 17  GrAppv             886225 non-null  object        \n",
      " 18  SBA_Appv           886225 non-null  object        \n",
      "dtypes: datetime64[ns](2), float64(1), int64(8), object(8)\n",
      "memory usage: 135.2+ MB\n"
     ]
    }
   ],
   "source": [
    "sba.info()"
   ]
  },
  {
   "cell_type": "code",
   "execution_count": 24,
   "id": "a46b83d9",
   "metadata": {},
   "outputs": [],
   "source": [
    "sba_backup2 = sba.copy()\n",
    "#sba = sba_backup2"
   ]
  },
  {
   "cell_type": "markdown",
   "id": "9d241ca4",
   "metadata": {},
   "source": [
    "### Some manipulations on columns with monetary values"
   ]
  },
  {
   "cell_type": "code",
   "execution_count": 25,
   "id": "a4b7416c",
   "metadata": {},
   "outputs": [],
   "source": [
    "# Removing commas\n",
    "\n",
    "sba['GrAppv'] = sba['GrAppv'].str.replace(',', '', regex=False)\n",
    "sba['SBA_Appv'] = sba['SBA_Appv'].str.replace(',', '', regex=False)\n",
    "sba['DisbursementGross'] = sba['DisbursementGross'].str.replace(',', '', regex=False)\n",
    "\n",
    "# Removing $ signs\n",
    "sba['GrAppv'] = sba['GrAppv'].str.replace('$', '', regex=False)\n",
    "sba['SBA_Appv'] = sba['SBA_Appv'].str.replace('$', '', regex=False)\n",
    "sba['DisbursementGross'] = sba['DisbursementGross'].str.replace('$', '', regex=False)\n",
    "\n",
    "# Converting dtype into float\n",
    "sba['GrAppv'] = sba['GrAppv'].astype('float64')\n",
    "sba['SBA_Appv'] = sba['SBA_Appv'].astype('float64')\n",
    "sba['DisbursementGross'] = sba['DisbursementGross'].astype('float64')"
   ]
  },
  {
   "cell_type": "code",
   "execution_count": 26,
   "id": "f798a575",
   "metadata": {},
   "outputs": [
    {
     "data": {
      "text/html": [
       "<div>\n",
       "<style scoped>\n",
       "    .dataframe tbody tr th:only-of-type {\n",
       "        vertical-align: middle;\n",
       "    }\n",
       "\n",
       "    .dataframe tbody tr th {\n",
       "        vertical-align: top;\n",
       "    }\n",
       "\n",
       "    .dataframe thead th {\n",
       "        text-align: right;\n",
       "    }\n",
       "</style>\n",
       "<table border=\"1\" class=\"dataframe\">\n",
       "  <thead>\n",
       "    <tr style=\"text-align: right;\">\n",
       "      <th></th>\n",
       "      <th>City</th>\n",
       "      <th>State</th>\n",
       "      <th>Zip</th>\n",
       "      <th>NAICS</th>\n",
       "      <th>ApprovalDate</th>\n",
       "      <th>ApprovalFY</th>\n",
       "      <th>Term</th>\n",
       "      <th>NoEmp</th>\n",
       "      <th>NewExist</th>\n",
       "      <th>CreateJob</th>\n",
       "      <th>RetainedJob</th>\n",
       "      <th>FranchiseCode</th>\n",
       "      <th>UrbanRural</th>\n",
       "      <th>RevLineCr</th>\n",
       "      <th>LowDoc</th>\n",
       "      <th>DisbursementGross</th>\n",
       "      <th>MIS_Status</th>\n",
       "      <th>GrAppv</th>\n",
       "      <th>SBA_Appv</th>\n",
       "    </tr>\n",
       "  </thead>\n",
       "  <tbody>\n",
       "    <tr>\n",
       "      <th>761740</th>\n",
       "      <td>WEST SPRINGFIELD</td>\n",
       "      <td>PA</td>\n",
       "      <td>16443</td>\n",
       "      <td>0</td>\n",
       "      <td>1995-01-12</td>\n",
       "      <td>1995-01-01</td>\n",
       "      <td>36</td>\n",
       "      <td>2</td>\n",
       "      <td>2.0</td>\n",
       "      <td>0</td>\n",
       "      <td>0</td>\n",
       "      <td>1</td>\n",
       "      <td>0</td>\n",
       "      <td>N</td>\n",
       "      <td>Y</td>\n",
       "      <td>12000.0</td>\n",
       "      <td>P I F</td>\n",
       "      <td>12000.0</td>\n",
       "      <td>10800.0</td>\n",
       "    </tr>\n",
       "    <tr>\n",
       "      <th>237316</th>\n",
       "      <td>SHELLEY</td>\n",
       "      <td>ID</td>\n",
       "      <td>83274</td>\n",
       "      <td>238220</td>\n",
       "      <td>2007-09-04</td>\n",
       "      <td>2007-01-01</td>\n",
       "      <td>84</td>\n",
       "      <td>1</td>\n",
       "      <td>2.0</td>\n",
       "      <td>0</td>\n",
       "      <td>1</td>\n",
       "      <td>0</td>\n",
       "      <td>1</td>\n",
       "      <td>Y</td>\n",
       "      <td>N</td>\n",
       "      <td>53049.0</td>\n",
       "      <td>P I F</td>\n",
       "      <td>35000.0</td>\n",
       "      <td>17500.0</td>\n",
       "    </tr>\n",
       "    <tr>\n",
       "      <th>546587</th>\n",
       "      <td>MIDLAND</td>\n",
       "      <td>TX</td>\n",
       "      <td>79701</td>\n",
       "      <td>811122</td>\n",
       "      <td>1992-12-02</td>\n",
       "      <td>1993-01-01</td>\n",
       "      <td>72</td>\n",
       "      <td>5</td>\n",
       "      <td>1.0</td>\n",
       "      <td>0</td>\n",
       "      <td>0</td>\n",
       "      <td>1</td>\n",
       "      <td>0</td>\n",
       "      <td>N</td>\n",
       "      <td>N</td>\n",
       "      <td>126384.0</td>\n",
       "      <td>P I F</td>\n",
       "      <td>126384.0</td>\n",
       "      <td>109954.0</td>\n",
       "    </tr>\n",
       "    <tr>\n",
       "      <th>455011</th>\n",
       "      <td>HOUSTON</td>\n",
       "      <td>TX</td>\n",
       "      <td>77084</td>\n",
       "      <td>811111</td>\n",
       "      <td>1991-03-19</td>\n",
       "      <td>1991-01-01</td>\n",
       "      <td>216</td>\n",
       "      <td>6</td>\n",
       "      <td>1.0</td>\n",
       "      <td>0</td>\n",
       "      <td>0</td>\n",
       "      <td>1</td>\n",
       "      <td>0</td>\n",
       "      <td>N</td>\n",
       "      <td>N</td>\n",
       "      <td>135000.0</td>\n",
       "      <td>P I F</td>\n",
       "      <td>135000.0</td>\n",
       "      <td>121500.0</td>\n",
       "    </tr>\n",
       "    <tr>\n",
       "      <th>640385</th>\n",
       "      <td>COVINGTON</td>\n",
       "      <td>VA</td>\n",
       "      <td>24426</td>\n",
       "      <td>621310</td>\n",
       "      <td>2003-06-06</td>\n",
       "      <td>2003-01-01</td>\n",
       "      <td>120</td>\n",
       "      <td>2</td>\n",
       "      <td>1.0</td>\n",
       "      <td>0</td>\n",
       "      <td>2</td>\n",
       "      <td>1</td>\n",
       "      <td>2</td>\n",
       "      <td>0</td>\n",
       "      <td>N</td>\n",
       "      <td>227200.0</td>\n",
       "      <td>P I F</td>\n",
       "      <td>227200.0</td>\n",
       "      <td>170400.0</td>\n",
       "    </tr>\n",
       "  </tbody>\n",
       "</table>\n",
       "</div>"
      ],
      "text/plain": [
       "                    City State    Zip   NAICS ApprovalDate ApprovalFY  Term  \\\n",
       "761740  WEST SPRINGFIELD    PA  16443       0   1995-01-12 1995-01-01    36   \n",
       "237316           SHELLEY    ID  83274  238220   2007-09-04 2007-01-01    84   \n",
       "546587           MIDLAND    TX  79701  811122   1992-12-02 1993-01-01    72   \n",
       "455011           HOUSTON    TX  77084  811111   1991-03-19 1991-01-01   216   \n",
       "640385         COVINGTON    VA  24426  621310   2003-06-06 2003-01-01   120   \n",
       "\n",
       "        NoEmp  NewExist  CreateJob  RetainedJob  FranchiseCode  UrbanRural  \\\n",
       "761740      2       2.0          0            0              1           0   \n",
       "237316      1       2.0          0            1              0           1   \n",
       "546587      5       1.0          0            0              1           0   \n",
       "455011      6       1.0          0            0              1           0   \n",
       "640385      2       1.0          0            2              1           2   \n",
       "\n",
       "       RevLineCr LowDoc  DisbursementGross MIS_Status    GrAppv  SBA_Appv  \n",
       "761740         N      Y            12000.0      P I F   12000.0   10800.0  \n",
       "237316         Y      N            53049.0      P I F   35000.0   17500.0  \n",
       "546587         N      N           126384.0      P I F  126384.0  109954.0  \n",
       "455011         N      N           135000.0      P I F  135000.0  121500.0  \n",
       "640385         0      N           227200.0      P I F  227200.0  170400.0  "
      ]
     },
     "execution_count": 26,
     "metadata": {},
     "output_type": "execute_result"
    }
   ],
   "source": [
    "sba.sample(5)"
   ]
  },
  {
   "cell_type": "markdown",
   "id": "0e05c9c4",
   "metadata": {},
   "source": [
    "### Now that rows with NaN are removed, I am checking for any peculiar entry in categorical features:"
   ]
  },
  {
   "cell_type": "code",
   "execution_count": 27,
   "id": "cd163a35",
   "metadata": {},
   "outputs": [
    {
     "name": "stdout",
     "output_type": "stream",
     "text": [
      "Entries for NewExist: [2. 1. 0.]\n",
      "Entries for RevLineCr: ['N' '0' 'Y' 'T' '`' ',' '1' 'C' '3' '2' 'R' '7' 'A' '5' '.' '4' '-' 'Q']\n",
      "Entries for LowDoc: ['Y' 'N' 'C' '1' 'S' 'R' 'A' '0']\n",
      "Entries for UrbanRural: [0 1 2]\n",
      "Entries for MIS_Status: ['P I F' 'CHGOFF']\n"
     ]
    }
   ],
   "source": [
    "print(f'Entries for NewExist: {sba.NewExist.unique()}')\n",
    "print(f'Entries for RevLineCr: {sba.RevLineCr.unique()}')\n",
    "print(f'Entries for LowDoc: {sba.LowDoc.unique()}')\n",
    "print(f'Entries for UrbanRural: {sba.UrbanRural.unique()}')\n",
    "print(f'Entries for MIS_Status: {sba.MIS_Status.unique()}')"
   ]
  },
  {
   "cell_type": "markdown",
   "id": "ecd5c1f8",
   "metadata": {},
   "source": [
    "Ok.. for RevLineCr and LowDoc the entries are supposed to be either Y or N... some weird-arse values out there...\n",
    "<br>Also, NewExist is supposed to be either 1 or 2, but it also has 0 and nan. should get rid of these, too."
   ]
  },
  {
   "cell_type": "markdown",
   "id": "d4f1fc18",
   "metadata": {},
   "source": [
    "Removing all rows with those weird values"
   ]
  },
  {
   "cell_type": "code",
   "execution_count": 28,
   "id": "7ca111dd",
   "metadata": {},
   "outputs": [],
   "source": [
    "# Selects all the rows with values other than Y and N, then drop them from the main dataset.\n",
    "\n",
    "rev_drop = sba[sba['RevLineCr'].isin(['0','T', '`', ',', '1', 'C', '3', '2', 'R', '7', 'A', '5', '.', '4', '-', 'Q'])].index\n",
    "sba = sba.drop(rev_drop)\n",
    "\n",
    "ld_drop = sba[sba['LowDoc'].isin(['C', '1', 'S', 'R', 'A', '0'])].index\n",
    "sba = sba.drop(ld_drop)"
   ]
  },
  {
   "cell_type": "code",
   "execution_count": 29,
   "id": "a3cc040a",
   "metadata": {},
   "outputs": [
    {
     "name": "stdout",
     "output_type": "stream",
     "text": [
      "['N' 'Y']\n",
      "['Y' 'N']\n"
     ]
    }
   ],
   "source": [
    "# Check if the weird values were successfully dropped\n",
    "\n",
    "print(sba['RevLineCr'].unique())\n",
    "print(sba['LowDoc'].unique())\n"
   ]
  },
  {
   "cell_type": "code",
   "execution_count": 30,
   "id": "33a12ea3",
   "metadata": {},
   "outputs": [],
   "source": [
    "sba = sba.reset_index(drop=True)"
   ]
  },
  {
   "cell_type": "code",
   "execution_count": 31,
   "id": "5d75469c",
   "metadata": {},
   "outputs": [],
   "source": [
    "sba['NewExist'] = sba['NewExist'].astype(float)\n",
    "sba['NewExist'] = sba['NewExist'].astype(int)"
   ]
  },
  {
   "cell_type": "code",
   "execution_count": 32,
   "id": "fde6437b",
   "metadata": {},
   "outputs": [],
   "source": [
    "# Cleaning NewExist column: removing all the rows with '0'\n",
    "newexist_to_drop = sba[sba['NewExist'].isin([0, 'nan'])].index\n",
    "sba = sba.drop(newexist_to_drop)"
   ]
  },
  {
   "cell_type": "code",
   "execution_count": 33,
   "id": "6d52ad45",
   "metadata": {},
   "outputs": [
    {
     "name": "stdout",
     "output_type": "stream",
     "text": [
      "[2 1]\n"
     ]
    }
   ],
   "source": [
    "print(sba['NewExist'].unique())"
   ]
  },
  {
   "cell_type": "code",
   "execution_count": 34,
   "id": "72e032b2",
   "metadata": {},
   "outputs": [
    {
     "name": "stdout",
     "output_type": "stream",
     "text": [
      "<class 'pandas.core.frame.DataFrame'>\n",
      "Int64Index: 610172 entries, 0 to 611124\n",
      "Data columns (total 19 columns):\n",
      " #   Column             Non-Null Count   Dtype         \n",
      "---  ------             --------------   -----         \n",
      " 0   City               610172 non-null  object        \n",
      " 1   State              610172 non-null  object        \n",
      " 2   Zip                610172 non-null  int64         \n",
      " 3   NAICS              610172 non-null  int64         \n",
      " 4   ApprovalDate       610172 non-null  datetime64[ns]\n",
      " 5   ApprovalFY         610172 non-null  datetime64[ns]\n",
      " 6   Term               610172 non-null  int64         \n",
      " 7   NoEmp              610172 non-null  int64         \n",
      " 8   NewExist           610172 non-null  int32         \n",
      " 9   CreateJob          610172 non-null  int64         \n",
      " 10  RetainedJob        610172 non-null  int64         \n",
      " 11  FranchiseCode      610172 non-null  int64         \n",
      " 12  UrbanRural         610172 non-null  int64         \n",
      " 13  RevLineCr          610172 non-null  object        \n",
      " 14  LowDoc             610172 non-null  object        \n",
      " 15  DisbursementGross  610172 non-null  float64       \n",
      " 16  MIS_Status         610172 non-null  object        \n",
      " 17  GrAppv             610172 non-null  float64       \n",
      " 18  SBA_Appv           610172 non-null  float64       \n",
      "dtypes: datetime64[ns](2), float64(3), int32(1), int64(8), object(5)\n",
      "memory usage: 90.8+ MB\n"
     ]
    }
   ],
   "source": [
    "sba.info()"
   ]
  },
  {
   "cell_type": "markdown",
   "id": "aff2f989",
   "metadata": {},
   "source": [
    "### Some additional data manipulation"
   ]
  },
  {
   "cell_type": "markdown",
   "id": "0c4fa559",
   "metadata": {},
   "source": [
    "Adds a new column called bank_vs_sba. This checks whether banks were willing to  lend more loan than the amount SBA has approved.\n",
    "<br> Is there any case where the bank approved LESS than SBA did?"
   ]
  },
  {
   "cell_type": "code",
   "execution_count": 35,
   "id": "62b38d07",
   "metadata": {},
   "outputs": [
    {
     "name": "stdout",
     "output_type": "stream",
     "text": [
      "False\n"
     ]
    }
   ],
   "source": [
    "sba['bvs'] = (sba['GrAppv']-sba['SBA_Appv'])\n",
    "\n",
    "#Check to see if there is any case where bank approved less than that of sba.\n",
    "print((sba['bvs'].values < 0).any())"
   ]
  },
  {
   "cell_type": "markdown",
   "id": "fa172cff",
   "metadata": {},
   "source": [
    "So, no banks have ever approved less than SBA. This must be true, because SBA approved amount is the minimum guarenteed amount that a business can borrow. Otherwise, the corresponding entry would've been wrong and thus had to be removed. Fortunately, no such case exists.\n",
    "<br>\n",
    "<br>Below creates a new column that checks, for each company, whether the bank handed greater amount of loan than SBA did.\n",
    " - 1 : Bank Approval > SBA Approval,  0: Bank Approval = SBA Approval"
   ]
  },
  {
   "cell_type": "code",
   "execution_count": 36,
   "id": "8c601f27",
   "metadata": {},
   "outputs": [],
   "source": [
    "sba['more_than_sba'] = np.where(sba['bvs'] > 0.0, '1', '0')"
   ]
  },
  {
   "cell_type": "code",
   "execution_count": 37,
   "id": "8e28da70",
   "metadata": {},
   "outputs": [],
   "source": [
    "sba['more_than_sba'] = sba['more_than_sba'].astype(str).astype(int)"
   ]
  },
  {
   "cell_type": "markdown",
   "id": "ee8ad9d7",
   "metadata": {},
   "source": [
    "### For the last time, let's check again the cleaned dataset for any NaN"
   ]
  },
  {
   "cell_type": "code",
   "execution_count": 38,
   "id": "638ea96e",
   "metadata": {},
   "outputs": [
    {
     "data": {
      "text/plain": [
       "City                 0\n",
       "State                0\n",
       "Zip                  0\n",
       "NAICS                0\n",
       "ApprovalDate         0\n",
       "ApprovalFY           0\n",
       "Term                 0\n",
       "NoEmp                0\n",
       "NewExist             0\n",
       "CreateJob            0\n",
       "RetainedJob          0\n",
       "FranchiseCode        0\n",
       "UrbanRural           0\n",
       "RevLineCr            0\n",
       "LowDoc               0\n",
       "DisbursementGross    0\n",
       "MIS_Status           0\n",
       "GrAppv               0\n",
       "SBA_Appv             0\n",
       "bvs                  0\n",
       "more_than_sba        0\n",
       "dtype: int64"
      ]
     },
     "execution_count": 38,
     "metadata": {},
     "output_type": "execute_result"
    }
   ],
   "source": [
    "pd.isna(sba).sum()"
   ]
  },
  {
   "cell_type": "code",
   "execution_count": 39,
   "id": "d1cd191f",
   "metadata": {},
   "outputs": [
    {
     "name": "stdout",
     "output_type": "stream",
     "text": [
      "<class 'pandas.core.frame.DataFrame'>\n",
      "Int64Index: 610172 entries, 0 to 611124\n",
      "Data columns (total 21 columns):\n",
      " #   Column             Non-Null Count   Dtype         \n",
      "---  ------             --------------   -----         \n",
      " 0   City               610172 non-null  object        \n",
      " 1   State              610172 non-null  object        \n",
      " 2   Zip                610172 non-null  int64         \n",
      " 3   NAICS              610172 non-null  int64         \n",
      " 4   ApprovalDate       610172 non-null  datetime64[ns]\n",
      " 5   ApprovalFY         610172 non-null  datetime64[ns]\n",
      " 6   Term               610172 non-null  int64         \n",
      " 7   NoEmp              610172 non-null  int64         \n",
      " 8   NewExist           610172 non-null  int32         \n",
      " 9   CreateJob          610172 non-null  int64         \n",
      " 10  RetainedJob        610172 non-null  int64         \n",
      " 11  FranchiseCode      610172 non-null  int64         \n",
      " 12  UrbanRural         610172 non-null  int64         \n",
      " 13  RevLineCr          610172 non-null  object        \n",
      " 14  LowDoc             610172 non-null  object        \n",
      " 15  DisbursementGross  610172 non-null  float64       \n",
      " 16  MIS_Status         610172 non-null  object        \n",
      " 17  GrAppv             610172 non-null  float64       \n",
      " 18  SBA_Appv           610172 non-null  float64       \n",
      " 19  bvs                610172 non-null  float64       \n",
      " 20  more_than_sba      610172 non-null  int32         \n",
      "dtypes: datetime64[ns](2), float64(4), int32(2), int64(8), object(5)\n",
      "memory usage: 97.8+ MB\n"
     ]
    }
   ],
   "source": [
    "sba.info()"
   ]
  },
  {
   "cell_type": "markdown",
   "id": "34448fd1",
   "metadata": {},
   "source": [
    "### Now that I have cleaned the data, I will encode categorical features"
   ]
  },
  {
   "cell_type": "markdown",
   "id": "05747651",
   "metadata": {},
   "source": [
    "Most of the cat. features are binary, so I won't use onehotencoder here"
   ]
  },
  {
   "cell_type": "code",
   "execution_count": 40,
   "id": "dade3e15",
   "metadata": {},
   "outputs": [],
   "source": [
    "le = LabelEncoder()"
   ]
  },
  {
   "cell_type": "code",
   "execution_count": 41,
   "id": "8c68e020",
   "metadata": {},
   "outputs": [],
   "source": [
    "# Adding the encoded States column to the DF\n",
    "sba['State_coded'] = le.fit_transform(sba['State'])"
   ]
  },
  {
   "cell_type": "code",
   "execution_count": 42,
   "id": "ae8ae12f",
   "metadata": {},
   "outputs": [],
   "source": [
    "# Adding the encoded Revolving Line of Credit column to the DF\n",
    "sba['RevLineCr_coded'] = le.fit_transform(sba['RevLineCr'])"
   ]
  },
  {
   "cell_type": "code",
   "execution_count": 43,
   "id": "a73c91ea",
   "metadata": {},
   "outputs": [],
   "source": [
    "# Adding the encoded Low Documentation Loan column to the DF\n",
    "sba['LowDoc_coded'] = le.fit_transform(sba['LowDoc'])"
   ]
  },
  {
   "cell_type": "code",
   "execution_count": 44,
   "id": "b1214139",
   "metadata": {},
   "outputs": [],
   "source": [
    "# Adding the encoded payoff status column to the DF\n",
    "sba['MIS_Status_coded'] = le.fit_transform(sba['MIS_Status'])"
   ]
  },
  {
   "cell_type": "code",
   "execution_count": 45,
   "id": "27cb1b8e",
   "metadata": {},
   "outputs": [
    {
     "data": {
      "text/html": [
       "<div>\n",
       "<style scoped>\n",
       "    .dataframe tbody tr th:only-of-type {\n",
       "        vertical-align: middle;\n",
       "    }\n",
       "\n",
       "    .dataframe tbody tr th {\n",
       "        vertical-align: top;\n",
       "    }\n",
       "\n",
       "    .dataframe thead th {\n",
       "        text-align: right;\n",
       "    }\n",
       "</style>\n",
       "<table border=\"1\" class=\"dataframe\">\n",
       "  <thead>\n",
       "    <tr style=\"text-align: right;\">\n",
       "      <th></th>\n",
       "      <th>City</th>\n",
       "      <th>State</th>\n",
       "      <th>Zip</th>\n",
       "      <th>NAICS</th>\n",
       "      <th>ApprovalDate</th>\n",
       "      <th>ApprovalFY</th>\n",
       "      <th>Term</th>\n",
       "      <th>NoEmp</th>\n",
       "      <th>NewExist</th>\n",
       "      <th>CreateJob</th>\n",
       "      <th>RetainedJob</th>\n",
       "      <th>FranchiseCode</th>\n",
       "      <th>UrbanRural</th>\n",
       "      <th>RevLineCr</th>\n",
       "      <th>LowDoc</th>\n",
       "      <th>DisbursementGross</th>\n",
       "      <th>MIS_Status</th>\n",
       "      <th>GrAppv</th>\n",
       "      <th>SBA_Appv</th>\n",
       "      <th>bvs</th>\n",
       "      <th>more_than_sba</th>\n",
       "      <th>State_coded</th>\n",
       "      <th>RevLineCr_coded</th>\n",
       "      <th>LowDoc_coded</th>\n",
       "      <th>MIS_Status_coded</th>\n",
       "    </tr>\n",
       "  </thead>\n",
       "  <tbody>\n",
       "    <tr>\n",
       "      <th>291473</th>\n",
       "      <td>DALLAS</td>\n",
       "      <td>GA</td>\n",
       "      <td>30132</td>\n",
       "      <td>0</td>\n",
       "      <td>2000-09-01</td>\n",
       "      <td>2000-01-01</td>\n",
       "      <td>84</td>\n",
       "      <td>1</td>\n",
       "      <td>2</td>\n",
       "      <td>0</td>\n",
       "      <td>0</td>\n",
       "      <td>1</td>\n",
       "      <td>1</td>\n",
       "      <td>N</td>\n",
       "      <td>N</td>\n",
       "      <td>150000.0</td>\n",
       "      <td>P I F</td>\n",
       "      <td>150000.0</td>\n",
       "      <td>112500.0</td>\n",
       "      <td>37500.0</td>\n",
       "      <td>1</td>\n",
       "      <td>10</td>\n",
       "      <td>0</td>\n",
       "      <td>0</td>\n",
       "      <td>1</td>\n",
       "    </tr>\n",
       "    <tr>\n",
       "      <th>167039</th>\n",
       "      <td>MILWAUKEE</td>\n",
       "      <td>WI</td>\n",
       "      <td>53214</td>\n",
       "      <td>561730</td>\n",
       "      <td>2007-06-20</td>\n",
       "      <td>2007-01-01</td>\n",
       "      <td>84</td>\n",
       "      <td>4</td>\n",
       "      <td>1</td>\n",
       "      <td>0</td>\n",
       "      <td>4</td>\n",
       "      <td>0</td>\n",
       "      <td>1</td>\n",
       "      <td>N</td>\n",
       "      <td>N</td>\n",
       "      <td>17400.0</td>\n",
       "      <td>P I F</td>\n",
       "      <td>17400.0</td>\n",
       "      <td>8700.0</td>\n",
       "      <td>8700.0</td>\n",
       "      <td>1</td>\n",
       "      <td>48</td>\n",
       "      <td>0</td>\n",
       "      <td>0</td>\n",
       "      <td>1</td>\n",
       "    </tr>\n",
       "    <tr>\n",
       "      <th>273454</th>\n",
       "      <td>BILLINGS</td>\n",
       "      <td>MT</td>\n",
       "      <td>59108</td>\n",
       "      <td>235110</td>\n",
       "      <td>2000-03-20</td>\n",
       "      <td>2000-01-01</td>\n",
       "      <td>12</td>\n",
       "      <td>4</td>\n",
       "      <td>1</td>\n",
       "      <td>0</td>\n",
       "      <td>0</td>\n",
       "      <td>1</td>\n",
       "      <td>1</td>\n",
       "      <td>Y</td>\n",
       "      <td>N</td>\n",
       "      <td>141004.0</td>\n",
       "      <td>P I F</td>\n",
       "      <td>130000.0</td>\n",
       "      <td>97500.0</td>\n",
       "      <td>32500.0</td>\n",
       "      <td>1</td>\n",
       "      <td>26</td>\n",
       "      <td>1</td>\n",
       "      <td>0</td>\n",
       "      <td>1</td>\n",
       "    </tr>\n",
       "    <tr>\n",
       "      <th>27545</th>\n",
       "      <td>INDIANAPOLIS</td>\n",
       "      <td>IN</td>\n",
       "      <td>46236</td>\n",
       "      <td>541410</td>\n",
       "      <td>2005-04-06</td>\n",
       "      <td>2005-01-01</td>\n",
       "      <td>34</td>\n",
       "      <td>1</td>\n",
       "      <td>1</td>\n",
       "      <td>0</td>\n",
       "      <td>1</td>\n",
       "      <td>1</td>\n",
       "      <td>2</td>\n",
       "      <td>Y</td>\n",
       "      <td>N</td>\n",
       "      <td>9555.0</td>\n",
       "      <td>CHGOFF</td>\n",
       "      <td>5000.0</td>\n",
       "      <td>2500.0</td>\n",
       "      <td>2500.0</td>\n",
       "      <td>1</td>\n",
       "      <td>15</td>\n",
       "      <td>1</td>\n",
       "      <td>0</td>\n",
       "      <td>0</td>\n",
       "    </tr>\n",
       "    <tr>\n",
       "      <th>4449</th>\n",
       "      <td>BALLWIN</td>\n",
       "      <td>MO</td>\n",
       "      <td>63021</td>\n",
       "      <td>238350</td>\n",
       "      <td>2004-08-13</td>\n",
       "      <td>2004-01-01</td>\n",
       "      <td>50</td>\n",
       "      <td>7</td>\n",
       "      <td>1</td>\n",
       "      <td>0</td>\n",
       "      <td>0</td>\n",
       "      <td>1</td>\n",
       "      <td>1</td>\n",
       "      <td>N</td>\n",
       "      <td>N</td>\n",
       "      <td>50000.0</td>\n",
       "      <td>CHGOFF</td>\n",
       "      <td>50000.0</td>\n",
       "      <td>25000.0</td>\n",
       "      <td>25000.0</td>\n",
       "      <td>1</td>\n",
       "      <td>24</td>\n",
       "      <td>0</td>\n",
       "      <td>0</td>\n",
       "      <td>0</td>\n",
       "    </tr>\n",
       "  </tbody>\n",
       "</table>\n",
       "</div>"
      ],
      "text/plain": [
       "                City State    Zip   NAICS ApprovalDate ApprovalFY  Term  \\\n",
       "291473        DALLAS    GA  30132       0   2000-09-01 2000-01-01    84   \n",
       "167039     MILWAUKEE    WI  53214  561730   2007-06-20 2007-01-01    84   \n",
       "273454      BILLINGS    MT  59108  235110   2000-03-20 2000-01-01    12   \n",
       "27545   INDIANAPOLIS    IN  46236  541410   2005-04-06 2005-01-01    34   \n",
       "4449         BALLWIN    MO  63021  238350   2004-08-13 2004-01-01    50   \n",
       "\n",
       "        NoEmp  NewExist  CreateJob  RetainedJob  FranchiseCode  UrbanRural  \\\n",
       "291473      1         2          0            0              1           1   \n",
       "167039      4         1          0            4              0           1   \n",
       "273454      4         1          0            0              1           1   \n",
       "27545       1         1          0            1              1           2   \n",
       "4449        7         1          0            0              1           1   \n",
       "\n",
       "       RevLineCr LowDoc  DisbursementGross MIS_Status    GrAppv  SBA_Appv  \\\n",
       "291473         N      N           150000.0      P I F  150000.0  112500.0   \n",
       "167039         N      N            17400.0      P I F   17400.0    8700.0   \n",
       "273454         Y      N           141004.0      P I F  130000.0   97500.0   \n",
       "27545          Y      N             9555.0     CHGOFF    5000.0    2500.0   \n",
       "4449           N      N            50000.0     CHGOFF   50000.0   25000.0   \n",
       "\n",
       "            bvs  more_than_sba  State_coded  RevLineCr_coded  LowDoc_coded  \\\n",
       "291473  37500.0              1           10                0             0   \n",
       "167039   8700.0              1           48                0             0   \n",
       "273454  32500.0              1           26                1             0   \n",
       "27545    2500.0              1           15                1             0   \n",
       "4449    25000.0              1           24                0             0   \n",
       "\n",
       "        MIS_Status_coded  \n",
       "291473                 1  \n",
       "167039                 1  \n",
       "273454                 1  \n",
       "27545                  0  \n",
       "4449                   0  "
      ]
     },
     "execution_count": 45,
     "metadata": {},
     "output_type": "execute_result"
    }
   ],
   "source": [
    "sba.sample(5)"
   ]
  },
  {
   "cell_type": "markdown",
   "id": "1e9b915c",
   "metadata": {},
   "source": [
    "- Maybe I gotta stratify the data..."
   ]
  },
  {
   "cell_type": "code",
   "execution_count": 46,
   "id": "061eef5f",
   "metadata": {},
   "outputs": [
    {
     "name": "stdout",
     "output_type": "stream",
     "text": [
      "Total count of Paid-in-fulls: 499634\n",
      "Total count of Charge-offs (defaults): 110538\n"
     ]
    }
   ],
   "source": [
    "print(f'Total count of Paid-in-fulls: {len(sba[sba.MIS_Status_coded == 1])}')\n",
    "print(f'Total count of Charge-offs (defaults): {len(sba[sba.MIS_Status_coded == 0])}')"
   ]
  },
  {
   "cell_type": "markdown",
   "id": "7e206e58",
   "metadata": {},
   "source": [
    "Exporting the cleaned-up data to csv"
   ]
  },
  {
   "cell_type": "code",
   "execution_count": 47,
   "id": "eb782118",
   "metadata": {},
   "outputs": [],
   "source": [
    "sba.to_csv('sba_cleaned.csv', encoding = 'utf-8-sig') "
   ]
  },
  {
   "cell_type": "markdown",
   "id": "571a4c68",
   "metadata": {},
   "source": [
    "# 2. Building Models"
   ]
  },
  {
   "cell_type": "markdown",
   "id": "efbdf5d6",
   "metadata": {},
   "source": [
    "Import cleaned dataset from EDA"
   ]
  },
  {
   "cell_type": "code",
   "execution_count": 48,
   "id": "8825eac3",
   "metadata": {},
   "outputs": [],
   "source": [
    "sba = pd.read_csv('sba_cleaned.csv', index_col = 0)"
   ]
  },
  {
   "cell_type": "code",
   "execution_count": 49,
   "id": "52e9f7f5",
   "metadata": {},
   "outputs": [
    {
     "name": "stdout",
     "output_type": "stream",
     "text": [
      "(610172, 25)\n"
     ]
    },
    {
     "data": {
      "text/html": [
       "<div>\n",
       "<style scoped>\n",
       "    .dataframe tbody tr th:only-of-type {\n",
       "        vertical-align: middle;\n",
       "    }\n",
       "\n",
       "    .dataframe tbody tr th {\n",
       "        vertical-align: top;\n",
       "    }\n",
       "\n",
       "    .dataframe thead th {\n",
       "        text-align: right;\n",
       "    }\n",
       "</style>\n",
       "<table border=\"1\" class=\"dataframe\">\n",
       "  <thead>\n",
       "    <tr style=\"text-align: right;\">\n",
       "      <th></th>\n",
       "      <th>City</th>\n",
       "      <th>State</th>\n",
       "      <th>Zip</th>\n",
       "      <th>NAICS</th>\n",
       "      <th>ApprovalDate</th>\n",
       "      <th>ApprovalFY</th>\n",
       "      <th>Term</th>\n",
       "      <th>NoEmp</th>\n",
       "      <th>NewExist</th>\n",
       "      <th>CreateJob</th>\n",
       "      <th>RetainedJob</th>\n",
       "      <th>FranchiseCode</th>\n",
       "      <th>UrbanRural</th>\n",
       "      <th>RevLineCr</th>\n",
       "      <th>LowDoc</th>\n",
       "      <th>DisbursementGross</th>\n",
       "      <th>MIS_Status</th>\n",
       "      <th>GrAppv</th>\n",
       "      <th>SBA_Appv</th>\n",
       "      <th>bvs</th>\n",
       "      <th>more_than_sba</th>\n",
       "      <th>State_coded</th>\n",
       "      <th>RevLineCr_coded</th>\n",
       "      <th>LowDoc_coded</th>\n",
       "      <th>MIS_Status_coded</th>\n",
       "    </tr>\n",
       "  </thead>\n",
       "  <tbody>\n",
       "    <tr>\n",
       "      <th>297721</th>\n",
       "      <td>BUFFALO</td>\n",
       "      <td>NY</td>\n",
       "      <td>14240</td>\n",
       "      <td>0</td>\n",
       "      <td>1990-04-05</td>\n",
       "      <td>1990-01-01</td>\n",
       "      <td>60</td>\n",
       "      <td>78</td>\n",
       "      <td>1</td>\n",
       "      <td>0</td>\n",
       "      <td>0</td>\n",
       "      <td>1</td>\n",
       "      <td>0</td>\n",
       "      <td>N</td>\n",
       "      <td>N</td>\n",
       "      <td>1000000.0</td>\n",
       "      <td>P I F</td>\n",
       "      <td>1000000.0</td>\n",
       "      <td>750000.0</td>\n",
       "      <td>250000.0</td>\n",
       "      <td>1</td>\n",
       "      <td>34</td>\n",
       "      <td>0</td>\n",
       "      <td>0</td>\n",
       "      <td>1</td>\n",
       "    </tr>\n",
       "    <tr>\n",
       "      <th>534844</th>\n",
       "      <td>HORSEHEADS</td>\n",
       "      <td>NY</td>\n",
       "      <td>14845</td>\n",
       "      <td>233210</td>\n",
       "      <td>1995-04-04</td>\n",
       "      <td>1995-01-01</td>\n",
       "      <td>4</td>\n",
       "      <td>4</td>\n",
       "      <td>1</td>\n",
       "      <td>0</td>\n",
       "      <td>0</td>\n",
       "      <td>1</td>\n",
       "      <td>0</td>\n",
       "      <td>N</td>\n",
       "      <td>N</td>\n",
       "      <td>20800.0</td>\n",
       "      <td>P I F</td>\n",
       "      <td>20800.0</td>\n",
       "      <td>15600.0</td>\n",
       "      <td>5200.0</td>\n",
       "      <td>1</td>\n",
       "      <td>34</td>\n",
       "      <td>0</td>\n",
       "      <td>0</td>\n",
       "      <td>1</td>\n",
       "    </tr>\n",
       "    <tr>\n",
       "      <th>165506</th>\n",
       "      <td>WILLIAMSTON</td>\n",
       "      <td>NC</td>\n",
       "      <td>27892</td>\n",
       "      <td>238990</td>\n",
       "      <td>2007-06-13</td>\n",
       "      <td>2007-01-01</td>\n",
       "      <td>84</td>\n",
       "      <td>2</td>\n",
       "      <td>2</td>\n",
       "      <td>0</td>\n",
       "      <td>2</td>\n",
       "      <td>0</td>\n",
       "      <td>1</td>\n",
       "      <td>Y</td>\n",
       "      <td>N</td>\n",
       "      <td>15736.0</td>\n",
       "      <td>P I F</td>\n",
       "      <td>6000.0</td>\n",
       "      <td>3000.0</td>\n",
       "      <td>3000.0</td>\n",
       "      <td>1</td>\n",
       "      <td>27</td>\n",
       "      <td>1</td>\n",
       "      <td>0</td>\n",
       "      <td>1</td>\n",
       "    </tr>\n",
       "    <tr>\n",
       "      <th>393691</th>\n",
       "      <td>RIVERSIDE</td>\n",
       "      <td>CA</td>\n",
       "      <td>92503</td>\n",
       "      <td>448140</td>\n",
       "      <td>2002-05-06</td>\n",
       "      <td>2002-01-01</td>\n",
       "      <td>20</td>\n",
       "      <td>2</td>\n",
       "      <td>1</td>\n",
       "      <td>2</td>\n",
       "      <td>2</td>\n",
       "      <td>1</td>\n",
       "      <td>1</td>\n",
       "      <td>N</td>\n",
       "      <td>N</td>\n",
       "      <td>20000.0</td>\n",
       "      <td>CHGOFF</td>\n",
       "      <td>20000.0</td>\n",
       "      <td>10000.0</td>\n",
       "      <td>10000.0</td>\n",
       "      <td>1</td>\n",
       "      <td>4</td>\n",
       "      <td>0</td>\n",
       "      <td>0</td>\n",
       "      <td>0</td>\n",
       "    </tr>\n",
       "  </tbody>\n",
       "</table>\n",
       "</div>"
      ],
      "text/plain": [
       "               City State    Zip   NAICS ApprovalDate  ApprovalFY  Term  \\\n",
       "297721      BUFFALO    NY  14240       0   1990-04-05  1990-01-01    60   \n",
       "534844   HORSEHEADS    NY  14845  233210   1995-04-04  1995-01-01     4   \n",
       "165506  WILLIAMSTON    NC  27892  238990   2007-06-13  2007-01-01    84   \n",
       "393691    RIVERSIDE    CA  92503  448140   2002-05-06  2002-01-01    20   \n",
       "\n",
       "        NoEmp  NewExist  CreateJob  RetainedJob  FranchiseCode  UrbanRural  \\\n",
       "297721     78         1          0            0              1           0   \n",
       "534844      4         1          0            0              1           0   \n",
       "165506      2         2          0            2              0           1   \n",
       "393691      2         1          2            2              1           1   \n",
       "\n",
       "       RevLineCr LowDoc  DisbursementGross MIS_Status     GrAppv  SBA_Appv  \\\n",
       "297721         N      N          1000000.0      P I F  1000000.0  750000.0   \n",
       "534844         N      N            20800.0      P I F    20800.0   15600.0   \n",
       "165506         Y      N            15736.0      P I F     6000.0    3000.0   \n",
       "393691         N      N            20000.0     CHGOFF    20000.0   10000.0   \n",
       "\n",
       "             bvs  more_than_sba  State_coded  RevLineCr_coded  LowDoc_coded  \\\n",
       "297721  250000.0              1           34                0             0   \n",
       "534844    5200.0              1           34                0             0   \n",
       "165506    3000.0              1           27                1             0   \n",
       "393691   10000.0              1            4                0             0   \n",
       "\n",
       "        MIS_Status_coded  \n",
       "297721                 1  \n",
       "534844                 1  \n",
       "165506                 1  \n",
       "393691                 0  "
      ]
     },
     "execution_count": 49,
     "metadata": {},
     "output_type": "execute_result"
    }
   ],
   "source": [
    "print(sba.shape)\n",
    "sba.sample(4)"
   ]
  },
  {
   "cell_type": "markdown",
   "id": "103c9a79",
   "metadata": {},
   "source": [
    "###  Assigning features and a target\n",
    "The target column here would be loan status of each business (labeled as <b>'MIS_Status_coded'</b>). <br>\n",
    "Recall that the status has been coded as follows:\n",
    "- If the business has fully paid the loan off (paid in full) = 1 <br>\n",
    "- If the business has defaulted (charged off) = 0"
   ]
  },
  {
   "cell_type": "code",
   "execution_count": 50,
   "id": "2aba7929",
   "metadata": {},
   "outputs": [],
   "source": [
    "# The target.  Note: 1= paid in full, 0 = charged off\n",
    "y_sba = sba[['MIS_Status_coded']]"
   ]
  },
  {
   "cell_type": "code",
   "execution_count": 51,
   "id": "c0222efb",
   "metadata": {},
   "outputs": [],
   "source": [
    "# Picking features for my model\n",
    "X_sba = sba[['NoEmp', 'NewExist', 'CreateJob', 'RetainedJob', 'UrbanRural',\n",
    "             'RevLineCr_coded', 'LowDoc_coded', 'DisbursementGross', 'more_than_sba']]"
   ]
  },
  {
   "cell_type": "code",
   "execution_count": 52,
   "id": "22c865e1",
   "metadata": {},
   "outputs": [
    {
     "data": {
      "text/plain": [
       "Index(['NoEmp', 'NewExist', 'CreateJob', 'RetainedJob', 'UrbanRural',\n",
       "       'RevLineCr_coded', 'LowDoc_coded', 'DisbursementGross',\n",
       "       'more_than_sba'],\n",
       "      dtype='object')"
      ]
     },
     "execution_count": 52,
     "metadata": {},
     "output_type": "execute_result"
    }
   ],
   "source": [
    "X_sba.columns"
   ]
  },
  {
   "cell_type": "code",
   "execution_count": 53,
   "id": "3efc29da",
   "metadata": {},
   "outputs": [],
   "source": [
    "#y_sba_backup = y_sba.copy()"
   ]
  },
  {
   "cell_type": "markdown",
   "id": "d3599efd",
   "metadata": {},
   "source": [
    "I will try reassigning cat. values for the tartget"
   ]
  },
  {
   "cell_type": "code",
   "execution_count": 54,
   "id": "d420df0a",
   "metadata": {},
   "outputs": [],
   "source": [
    "y_sba = pd.DataFrame(np.where(y_sba==1, 0, 1), columns=['MIS_Status_coded'])"
   ]
  },
  {
   "cell_type": "code",
   "execution_count": 55,
   "id": "00ddd61b",
   "metadata": {},
   "outputs": [
    {
     "data": {
      "text/html": [
       "<div>\n",
       "<style scoped>\n",
       "    .dataframe tbody tr th:only-of-type {\n",
       "        vertical-align: middle;\n",
       "    }\n",
       "\n",
       "    .dataframe tbody tr th {\n",
       "        vertical-align: top;\n",
       "    }\n",
       "\n",
       "    .dataframe thead th {\n",
       "        text-align: right;\n",
       "    }\n",
       "</style>\n",
       "<table border=\"1\" class=\"dataframe\">\n",
       "  <thead>\n",
       "    <tr style=\"text-align: right;\">\n",
       "      <th></th>\n",
       "      <th>MIS_Status_coded</th>\n",
       "    </tr>\n",
       "  </thead>\n",
       "  <tbody>\n",
       "    <tr>\n",
       "      <th>0</th>\n",
       "      <td>0</td>\n",
       "    </tr>\n",
       "    <tr>\n",
       "      <th>1</th>\n",
       "      <td>0</td>\n",
       "    </tr>\n",
       "    <tr>\n",
       "      <th>2</th>\n",
       "      <td>0</td>\n",
       "    </tr>\n",
       "    <tr>\n",
       "      <th>3</th>\n",
       "      <td>0</td>\n",
       "    </tr>\n",
       "    <tr>\n",
       "      <th>4</th>\n",
       "      <td>0</td>\n",
       "    </tr>\n",
       "    <tr>\n",
       "      <th>...</th>\n",
       "      <td>...</td>\n",
       "    </tr>\n",
       "    <tr>\n",
       "      <th>610167</th>\n",
       "      <td>0</td>\n",
       "    </tr>\n",
       "    <tr>\n",
       "      <th>610168</th>\n",
       "      <td>0</td>\n",
       "    </tr>\n",
       "    <tr>\n",
       "      <th>610169</th>\n",
       "      <td>0</td>\n",
       "    </tr>\n",
       "    <tr>\n",
       "      <th>610170</th>\n",
       "      <td>1</td>\n",
       "    </tr>\n",
       "    <tr>\n",
       "      <th>610171</th>\n",
       "      <td>0</td>\n",
       "    </tr>\n",
       "  </tbody>\n",
       "</table>\n",
       "<p>610172 rows × 1 columns</p>\n",
       "</div>"
      ],
      "text/plain": [
       "        MIS_Status_coded\n",
       "0                      0\n",
       "1                      0\n",
       "2                      0\n",
       "3                      0\n",
       "4                      0\n",
       "...                  ...\n",
       "610167                 0\n",
       "610168                 0\n",
       "610169                 0\n",
       "610170                 1\n",
       "610171                 0\n",
       "\n",
       "[610172 rows x 1 columns]"
      ]
     },
     "execution_count": 55,
     "metadata": {},
     "output_type": "execute_result"
    }
   ],
   "source": [
    "y_sba"
   ]
  },
  {
   "cell_type": "markdown",
   "id": "c6a6e773",
   "metadata": {},
   "source": [
    "### Splitting the dataset: Train-test-validate splitting (60:20:20)"
   ]
  },
  {
   "cell_type": "code",
   "execution_count": 56,
   "id": "52d57330",
   "metadata": {},
   "outputs": [],
   "source": [
    "X_train, X_test, y_train, y_test = train_test_split(X_sba, y_sba, test_size=0.2, random_state=123)\n",
    "X_train, X_val, y_train, y_val = train_test_split(X_train, y_train, test_size=0.25, random_state=123)"
   ]
  },
  {
   "cell_type": "code",
   "execution_count": 57,
   "id": "aa5618fd",
   "metadata": {},
   "outputs": [
    {
     "name": "stdout",
     "output_type": "stream",
     "text": [
      "66456\n",
      "299646\n"
     ]
    }
   ],
   "source": [
    "print(len(y_train[y_train.MIS_Status_coded == 1]))\n",
    "print(len(y_train[y_train.MIS_Status_coded == 0]))"
   ]
  },
  {
   "cell_type": "markdown",
   "id": "4de7211e",
   "metadata": {},
   "source": [
    "I might have to consider class imbalance  later on..?"
   ]
  },
  {
   "cell_type": "markdown",
   "id": "49960816",
   "metadata": {},
   "source": [
    "# A. Log. Regression"
   ]
  },
  {
   "cell_type": "markdown",
   "id": "9a5195bf",
   "metadata": {},
   "source": [
    "### Since simple average of target distribution is pretty ridiculous to be used as a baseline at this point, I will go with plain, non-tuned LogReg model as a starting model."
   ]
  },
  {
   "cell_type": "markdown",
   "id": "3729db92",
   "metadata": {},
   "source": [
    "- Setting up LogReg"
   ]
  },
  {
   "cell_type": "code",
   "execution_count": 58,
   "id": "0823b813",
   "metadata": {},
   "outputs": [],
   "source": [
    "# Just a default logreg.\n",
    "logreg = LogisticRegression(random_state=123)"
   ]
  },
  {
   "cell_type": "markdown",
   "id": "5181cf08",
   "metadata": {},
   "source": [
    "- Scaling the data"
   ]
  },
  {
   "cell_type": "code",
   "execution_count": 59,
   "id": "3df1a008",
   "metadata": {},
   "outputs": [],
   "source": [
    "scaler = StandardScaler()\n",
    "\n",
    "# Scaling Train Dataset\n",
    "X_tr_scale = scaler.fit_transform(X_train)\n",
    "y_train = y_train.values.ravel()\n",
    "\n",
    "# Scaling Val. Dataset\n",
    "X_val_scale = scaler.fit_transform(X_val)\n",
    "y_val = y_val.values.ravel()\n",
    "\n",
    "# Scaling Test Dataset\n",
    "X_te_scale = scaler.fit_transform(X_test)\n",
    "y_test = y_test.values.ravel()"
   ]
  },
  {
   "cell_type": "markdown",
   "id": "e251e475",
   "metadata": {},
   "source": [
    "### A-1. Fitting the train dataset"
   ]
  },
  {
   "cell_type": "code",
   "execution_count": 60,
   "id": "4dfdd9d1",
   "metadata": {},
   "outputs": [
    {
     "name": "stdout",
     "output_type": "stream",
     "text": [
      "==============================================================================================================\n",
      "Analysis of the Model Baseline LogReg \n",
      "-------------------------------------------------------------------\n",
      "- Model Score : 0.8188510305871042\n",
      "- Cost Function: 0.43129825874054095\n",
      "\n",
      "\n",
      "- Hard classification of the model Baseline LogReg: [0 0 0 ... 0 0 0]\n",
      "- Soft classfication of the model Baseline LogReg: [[0.92439002 0.07560998]\n",
      " [0.73363087 0.26636913]\n",
      " [0.99314821 0.00685179]\n",
      " ...\n",
      " [0.7385272  0.2614728 ]\n",
      " [0.62476212 0.37523788]\n",
      " [0.6158018  0.3841982 ]]\n",
      "--------------------------------------------------------------------------------------------------------------\n",
      "Classification metrics of the model Baseline LogReg\n",
      "- Accuracy:  0.8188510305871042\n",
      "- Precision:  0.9858156028368794\n",
      "- Recall:  0.0020916094859756832\n",
      "- F1 Score:  0.004174362208507891\n",
      "==============================================================================================================\n"
     ]
    }
   ],
   "source": [
    "lr_base = lr_analysis(logreg, X_tr_scale, y_train, 'Baseline LogReg')"
   ]
  },
  {
   "cell_type": "markdown",
   "id": "dbd60db6",
   "metadata": {},
   "source": [
    "What happened to recall?"
   ]
  },
  {
   "cell_type": "code",
   "execution_count": 61,
   "id": "5358f3f4",
   "metadata": {},
   "outputs": [
    {
     "name": "stdout",
     "output_type": "stream",
     "text": [
      "==============================================================================================================\n",
      "Analysis of the Model  \n",
      "-------------------------------------------------------------------\n",
      "- Model Score : 0.8202646781660999\n",
      "- Cost Function: 0.42991138591259204\n",
      "\n",
      "\n",
      "- Hard classification of the model : [0 0 0 ... 0 0 0]\n",
      "- Soft classfication of the model : [[0.97925508 0.02074492]\n",
      " [0.73370784 0.26629216]\n",
      " [0.89953918 0.10046082]\n",
      " ...\n",
      " [0.84248948 0.15751052]\n",
      " [0.73464944 0.26535056]\n",
      " [0.8592492  0.1407508 ]]\n",
      "--------------------------------------------------------------------------------------------------------------\n",
      "Classification metrics of the model \n",
      "- Accuracy:  0.8202646781660999\n",
      "- Precision:  0.9787234042553191\n",
      "- Recall:  0.0020929068656444787\n",
      "- F1 Score:  0.0041768818668845905\n",
      "==============================================================================================================\n"
     ]
    }
   ],
   "source": [
    "# Validation run of the 'baseline' logreg model\n",
    "lr_val_base = lr_analysis(logreg, X_val_scale, y_val)"
   ]
  },
  {
   "cell_type": "code",
   "execution_count": 84,
   "id": "bffe118c",
   "metadata": {},
   "outputs": [
    {
     "data": {
      "image/png": "[encoded data removed]",
      "text/plain": [
       "<Figure size 864x504 with 1 Axes>"
      ]
     },
     "metadata": {
      "needs_background": "light"
     },
     "output_type": "display_data"
    },
    {
     "name": "stdout",
     "output_type": "stream",
     "text": [
      "ROC AUC for [Baseline LogReg Model] model is: 0.7038953533853063\n"
     ]
    }
   ],
   "source": [
    "roc_lr_base = plot_roc('Baseline LogReg Model', y_val, lr_val_base)"
   ]
  },
  {
   "cell_type": "markdown",
   "id": "a1e27d7f",
   "metadata": {},
   "source": [
    "### A-1a. Parameter estimates"
   ]
  },
  {
   "cell_type": "markdown",
   "id": "c0c6199b",
   "metadata": {},
   "source": [
    "Let's take a break from the machine learning and take a look at imoprtance of each parameter. <br>\n",
    "Below will give the client some insight on which features they should focuse on when determining if a business is likely to default on them. "
   ]
  },
  {
   "cell_type": "code",
   "execution_count": 63,
   "id": "26e4e704",
   "metadata": {},
   "outputs": [
    {
     "name": "stdout",
     "output_type": "stream",
     "text": [
      "                   Coeff (\"de-logged\")  Importance\n",
      "NoEmp                         0.755335   -0.244665\n",
      "NewExist                      0.993113   -0.006887\n",
      "CreateJob                     0.867588   -0.132412\n",
      "RetainedJob                   1.260943    0.260943\n",
      "UrbanRural                    1.482767    0.482767\n",
      "RevLineCr_coded               0.989606   -0.010394\n",
      "LowDoc_coded                  0.669859   -0.330141\n",
      "DisbursementGross             0.661279   -0.338721\n",
      "more_than_sba                 1.942945    0.942945\n"
     ]
    }
   ],
   "source": [
    "coef_names = list(X_train.columns)\n",
    "\n",
    "logreg_coefs = np.exp((logreg.coef_).tolist()[0])\n",
    "\n",
    "logreg_coefs_tuple = list(zip(coef_names, logreg_coefs))\n",
    "#param_est = pd.DataFrame(logreg_coefs_tuple, columns=['Feature', 'Coeff (\"de-logged\")'])\n",
    "param_est = pd.DataFrame(logreg_coefs, index=coef_names, columns=['Coeff (\"de-logged\")'])\n",
    "\n",
    "param_est['Importance'] = param_est['Coeff (\"de-logged\")']-1\n",
    "print(param_est)"
   ]
  },
  {
   "cell_type": "markdown",
   "id": "529ea7c4",
   "metadata": {},
   "source": [
    "<br>\n",
    "- Some insights:<br>\n",
    " -More the loan disbursed, more likey to pay off. <br>\n",
    " -Caveat, though, if a business end up getting more loans from the bank than the amount SBA has approved, the business is more likely to fail to pay the loan back. <br>\n",
    " -Rural businesses are at greater risk of defaulting than the urban ones. <br>\n",
    " -Biz. that applied for Low Documentation are more likely to pay them back <br>\n",
    " -Another interesting thing is whether the biz is new or not doesn't really play any role in it failling to pay back (coeff.~0.01, close to 0)."
   ]
  },
  {
   "cell_type": "code",
   "execution_count": 64,
   "id": "b4c92f5d",
   "metadata": {},
   "outputs": [
    {
     "data": {
      "image/png": "[encoded data removed]",
      "text/plain": [
       "<Figure size 432x288 with 1 Axes>"
      ]
     },
     "metadata": {
      "needs_background": "light"
     },
     "output_type": "display_data"
    }
   ],
   "source": [
    "param_plot = param_est.plot.barh(y='Importance', color='red')\n",
    "plt.xticks(np.arange(-1.0, 1.2, step=0.2))\n",
    "param_plot.set_xlabel('Importance')\n",
    "param_plot.set_ylabel('Features')\n",
    "param_plot.xaxis.grid(color='red',lw='0.05', zorder=0)\n",
    "plt.axvline(x = 0, color=\"gray\", ls='--', lw='1')\n",
    "param_plot.set_title('Parameter Estimates')\n",
    "param_plot.get_legend().remove()\n",
    "plt.tight_layout()\n",
    "plt.savefig('feature_importance.png')"
   ]
  },
  {
   "cell_type": "markdown",
   "id": "426725ff",
   "metadata": {},
   "source": [
    "## A-2. Hyperparameter tuning, oversampling"
   ]
  },
  {
   "cell_type": "markdown",
   "id": "caaf62c5",
   "metadata": {},
   "source": [
    "Starting with tuning hyperparameters for 'baseline' LogReg model"
   ]
  },
  {
   "cell_type": "code",
   "execution_count": 65,
   "id": "6af9c645",
   "metadata": {},
   "outputs": [],
   "source": [
    "logreg2 = LogisticRegression()"
   ]
  },
  {
   "cell_type": "code",
   "execution_count": 66,
   "id": "3bc55e5c",
   "metadata": {},
   "outputs": [],
   "source": [
    "hyp_C = [10**i for i in range(-1, 5)]\n",
    "lr_penalty =  ['l1', 'l2','elasticnet','none']\n",
    "lr_weight = ['balanced', {1 : 1, 0 : 2},{1 : 1, 0 : 3},{1 : 1, 0 : 4}, {1 : 1, 0 : 5} ]\n",
    "lr_solver = ['liblinear', 'lbfgs', 'newton-cg', 'saga']\n",
    "lr_maxiter = [100, 200, 300]\n",
    "\n",
    "\n",
    "param_grid_lr = {'C': hyp_C, 'class_weight': lr_weight, 'penalty': lr_penalty, 'solver':lr_solver, 'max_iter':lr_maxiter}\n"
   ]
  },
  {
   "cell_type": "code",
   "execution_count": 67,
   "id": "5ab63312",
   "metadata": {},
   "outputs": [],
   "source": [
    "lr_Grid = GridSearchCV(estimator = logreg2, param_grid = param_grid_lr, cv=3, verbose=3, n_jobs = -2)"
   ]
  },
  {
   "cell_type": "code",
   "execution_count": 69,
   "id": "305f0b0c",
   "metadata": {},
   "outputs": [
    {
     "name": "stdout",
     "output_type": "stream",
     "text": [
      "Fitting 3 folds for each of 1440 candidates, totalling 4320 fits\n"
     ]
    },
    {
     "name": "stderr",
     "output_type": "stream",
     "text": [
      "C:\\Users\\Hyosang-PC\\anaconda3\\lib\\site-packages\\sklearn\\model_selection\\_search.py:922: UserWarning: One or more of the test scores are non-finite: [0.60517561        nan        nan ... 0.59848348 0.59848348 0.59848621]\n",
      "  warnings.warn(\n"
     ]
    },
    {
     "data": {
      "text/plain": [
       "GridSearchCV(cv=3, estimator=LogisticRegression(), n_jobs=-2,\n",
       "             param_grid={'C': [0.1, 1, 10, 100, 1000, 10000],\n",
       "                         'class_weight': ['balanced', {0: 2, 1: 1},\n",
       "                                          {0: 3, 1: 1}, {0: 4, 1: 1},\n",
       "                                          {0: 5, 1: 1}],\n",
       "                         'max_iter': [100, 200, 300],\n",
       "                         'penalty': ['l1', 'l2', 'elasticnet', 'none'],\n",
       "                         'solver': ['liblinear', 'lbfgs', 'newton-cg', 'saga']},\n",
       "             verbose=3)"
      ]
     },
     "execution_count": 69,
     "metadata": {},
     "output_type": "execute_result"
    }
   ],
   "source": [
    "lr_Grid.fit(X_tr_scale, y_train)"
   ]
  },
  {
   "cell_type": "code",
   "execution_count": 201,
   "id": "5469bfda",
   "metadata": {
    "collapsed": true
   },
   "outputs": [
    {
     "ename": "AttributeError",
     "evalue": "'GridSearchCV' object has no attribute 'best_params_'",
     "output_type": "error",
     "traceback": [
      "\u001b[1;31m---------------------------------------------------------------------------\u001b[0m",
      "\u001b[1;31mAttributeError\u001b[0m                            Traceback (most recent call last)",
      "\u001b[1;32mC:\\Users\\HYOSAN~1\\AppData\\Local\\Temp/ipykernel_8532/792546563.py\u001b[0m in \u001b[0;36m<module>\u001b[1;34m\u001b[0m\n\u001b[1;32m----> 1\u001b[1;33m \u001b[0mlr_best_param\u001b[0m \u001b[1;33m=\u001b[0m \u001b[0mlr_Grid\u001b[0m\u001b[1;33m.\u001b[0m\u001b[0mbest_params_\u001b[0m\u001b[1;33m\u001b[0m\u001b[1;33m\u001b[0m\u001b[0m\n\u001b[0m\u001b[0;32m      2\u001b[0m \u001b[0mprint\u001b[0m\u001b[1;33m(\u001b[0m\u001b[0mlr_best_param\u001b[0m\u001b[1;33m)\u001b[0m\u001b[1;33m\u001b[0m\u001b[1;33m\u001b[0m\u001b[0m\n",
      "\u001b[1;31mAttributeError\u001b[0m: 'GridSearchCV' object has no attribute 'best_params_'"
     ]
    }
   ],
   "source": [
    "lr_best_param = lr_Grid.best_params_\n",
    "print(lr_best_param)"
   ]
  },
  {
   "cell_type": "markdown",
   "id": "f4248dc0",
   "metadata": {},
   "source": [
    "best parameters : {'C': 0.1, 'class_weight': {1: 1, 0: 2}, 'penalty': 'l1', 'solver': 'saga'}"
   ]
  },
  {
   "cell_type": "code",
   "execution_count": 82,
   "id": "ac69e7bf",
   "metadata": {},
   "outputs": [
    {
     "data": {
      "text/plain": [
       "b'\\x80\\x04\\x95^\\x00\\x00\\x00\\x00\\x00\\x00\\x00}\\x94(\\x8c\\x01C\\x94G?\\xb9\\x99\\x99\\x99\\x99\\x99\\x9a\\x8c\\x0cclass_weight\\x94}\\x94(K\\x01K\\x01K\\x00K\\x02u\\x8c\\x08max_iter\\x94Kd\\x8c\\x07penalty\\x94\\x8c\\x02l1\\x94\\x8c\\x06solver\\x94\\x8c\\tliblinear\\x94u.'"
      ]
     },
     "execution_count": 82,
     "metadata": {},
     "output_type": "execute_result"
    }
   ],
   "source": [
    "dill.dumps(lr_best_param)"
   ]
  },
  {
   "cell_type": "code",
   "execution_count": 68,
   "id": "d6adb04f",
   "metadata": {},
   "outputs": [],
   "source": [
    "#new solver with hyperparameters and etc tuned with grid search\n",
    "\n",
    "logreg2_gr = LogisticRegression(solver='liblinear', C=0.1, penalty='l1', class_weight={1:1, 0:2}, max_iter=100)"
   ]
  },
  {
   "cell_type": "code",
   "execution_count": 69,
   "id": "3ca03fde",
   "metadata": {},
   "outputs": [
    {
     "name": "stdout",
     "output_type": "stream",
     "text": [
      "==============================================================================================================\n",
      "Analysis of the Model Tuned LogReg, Train \n",
      "-------------------------------------------------------------------\n",
      "- Model Score : 0.8188073269198202\n",
      "- Cost Function: 0.46039629868663734\n",
      "\n",
      "\n",
      "- Hard classification of the model Tuned LogReg, Train: [0 0 0 ... 0 0 0]\n",
      "- Soft classfication of the model Tuned LogReg, Train: [[0.96038531 0.03961469]\n",
      " [0.84698971 0.15301029]\n",
      " [0.99676242 0.00323758]\n",
      " ...\n",
      " [0.84949624 0.15050376]\n",
      " [0.77547407 0.22452593]\n",
      " [0.7687427  0.2312573 ]]\n",
      "--------------------------------------------------------------------------------------------------------------\n",
      "Classification metrics of the model Tuned LogReg, Train\n",
      "- Accuracy:  0.8188073269198202\n",
      "- Precision:  0.984\n",
      "- Recall:  0.0018508486818345972\n",
      "- F1 Score:  0.0036947477508598547\n",
      "==============================================================================================================\n"
     ]
    }
   ],
   "source": [
    "lr_tuned = lr_analysis(logreg2_gr, X_tr_scale,y_train, 'Tuned LogReg, Train')"
   ]
  },
  {
   "cell_type": "markdown",
   "id": "30173f0e",
   "metadata": {},
   "source": [
    "Now, fitting validation set of tuned LogReg model"
   ]
  },
  {
   "cell_type": "code",
   "execution_count": 70,
   "id": "368a54f5",
   "metadata": {},
   "outputs": [
    {
     "name": "stdout",
     "output_type": "stream",
     "text": [
      "==============================================================================================================\n",
      "Analysis of the Model Tuned LogReg, Validation \n",
      "-------------------------------------------------------------------\n",
      "- Model Score : 0.8202319006842299\n",
      "- Cost Function: 0.45884696165202105\n",
      "\n",
      "\n",
      "- Hard classification of the model Tuned LogReg, Validation: [0 0 0 ... 0 0 0]\n",
      "- Soft classfication of the model Tuned LogReg, Validation: [[0.98947522 0.01052478]\n",
      " [0.8466901  0.1533099 ]\n",
      " [0.94578211 0.05421789]\n",
      " ...\n",
      " [0.91154789 0.08845211]\n",
      " [0.84684704 0.15315296]\n",
      " [0.92201149 0.07798851]]\n",
      "--------------------------------------------------------------------------------------------------------------\n",
      "Classification metrics of the model Tuned LogReg, Validation\n",
      "- Accuracy:  0.8202319006842299\n",
      "- Precision:  0.9767441860465116\n",
      "- Recall:  0.0019109149642840893\n",
      "- F1 Score:  0.003814367450731087\n",
      "==============================================================================================================\n"
     ]
    }
   ],
   "source": [
    "lr_tuned_val = lr_analysis(logreg2_gr, X_val_scale, y_val, 'Tuned LogReg, Validation')"
   ]
  },
  {
   "cell_type": "code",
   "execution_count": 71,
   "id": "91a428e7",
   "metadata": {},
   "outputs": [
    {
     "name": "stdout",
     "output_type": "stream",
     "text": [
      "======================================================================================================\n",
      "Comparing model score of [Tuned LogReg] with the base model [Base LogReg] \n",
      "------------------------------------------------------------------------------------------------------\n",
      "ΔScore: -3.2777481870027714e-05\n",
      "ΔAccuracy: -3.2777481870027714e-05\n",
      "ΔPrecision: -0.0019792182088075316\n",
      "ΔRecall: -0.00018199190136038938\n",
      "ΔF1: -0.00036251441615350356\n",
      "======================================================================================================\n"
     ]
    }
   ],
   "source": [
    "metric_comp(lr_val_base, lr_tuned_val, model1_name='Base LogReg',model2_name='Tuned LogReg')"
   ]
  },
  {
   "cell_type": "markdown",
   "id": "b8456534",
   "metadata": {},
   "source": [
    "- Tuning LogReg doesn't seem to improve the model..."
   ]
  },
  {
   "cell_type": "code",
   "execution_count": 72,
   "id": "36ef64f5",
   "metadata": {},
   "outputs": [
    {
     "data": {
      "text/plain": [
       "<matplotlib.legend.Legend at 0x145059f27f0>"
      ]
     },
     "execution_count": 72,
     "metadata": {},
     "output_type": "execute_result"
    },
    {
     "data": {
      "image/png": "[encoded data removed]",
      "text/plain": [
       "<Figure size 432x288 with 1 Axes>"
      ]
     },
     "metadata": {
      "needs_background": "light"
     },
     "output_type": "display_data"
    }
   ],
   "source": [
    "p_curve, r_curve, t_curve = precision_recall_curve(y_val, lr_tuned_val[0][:,1])\n",
    "\n",
    "plt.plot(t_curve, p_curve[:-1], color=\"b\", label=\"Precision\")\n",
    "plt.plot(t_curve, r_curve[:-1], color=\"r\", label=\"Recall\")\n",
    "\n",
    "plt.ylabel(\"Precision, Recall\")\n",
    "plt.xlabel(\"Threshold\")\n",
    "plt.xlim([0,1])\n",
    "plt.legend()"
   ]
  },
  {
   "cell_type": "code",
   "execution_count": 73,
   "id": "9d3448c0",
   "metadata": {},
   "outputs": [
    {
     "data": {
      "image/png": "[encoded data removed]",
      "text/plain": [
       "<Figure size 432x288 with 1 Axes>"
      ]
     },
     "metadata": {
      "needs_background": "light"
     },
     "output_type": "display_data"
    }
   ],
   "source": [
    "plt.plot(r_curve, p_curve, lw='3', color='black')\n",
    "plt.plot([0,1], [0,1], color='red', ls='dashed', lw='1')\n",
    "\n",
    "plt.xlim([0,1])\n",
    "plt.ylim([0,1])\n",
    "plt.xlabel('Recall')\n",
    "plt.ylabel('Precision')\n",
    "plt.grid(ls=':', lw='0.5')\n",
    "\n",
    "plt.show()"
   ]
  },
  {
   "cell_type": "code",
   "execution_count": 74,
   "id": "7ac2e837",
   "metadata": {},
   "outputs": [
    {
     "data": {
      "text/plain": [
       "(122035, 2)"
      ]
     },
     "execution_count": 74,
     "metadata": {},
     "output_type": "execute_result"
    }
   ],
   "source": [
    "lr_tuned_val[0].shape"
   ]
  },
  {
   "cell_type": "markdown",
   "id": "fd0a2a0b",
   "metadata": {},
   "source": [
    "## ROC Curve and AUC for tuned LogReg model"
   ]
  },
  {
   "cell_type": "code",
   "execution_count": 75,
   "id": "f5678c3f",
   "metadata": {},
   "outputs": [
    {
     "data": {
      "image/png": "[encoded data removed]",
      "text/plain": [
       "<Figure size 432x288 with 1 Axes>"
      ]
     },
     "metadata": {
      "needs_background": "light"
     },
     "output_type": "display_data"
    },
    {
     "name": "stdout",
     "output_type": "stream",
     "text": [
      "ROC AUC for [Tuned LogReg] model is: 0.7036134606514887\n"
     ]
    }
   ],
   "source": [
    "roc_lr_tune = plot_roc('Tuned LogReg', y_val, lr_tuned_val)"
   ]
  },
  {
   "cell_type": "code",
   "execution_count": 76,
   "id": "5c48454f",
   "metadata": {
    "scrolled": true
   },
   "outputs": [
    {
     "name": "stdout",
     "output_type": "stream",
     "text": [
      "[0.         0.         0.         ... 0.99993004 0.99993004 1.        ]\n",
      "[0.00000000e+00 4.54979753e-05 2.27489877e-04 ... 9.99954502e-01\n",
      " 1.00000000e+00 1.00000000e+00]\n",
      "[1.76635519e+00 7.66355187e-01 7.60398431e-01 ... 2.13873458e-09\n",
      " 3.43387266e-10 2.07329435e-15]\n"
     ]
    }
   ],
   "source": [
    "# ROC Curve for LogReg\n",
    "\n",
    "lr_fpr, lr_tpr, lr_thresholds = roc_curve(y_val, lr_val_base[0][:,1])\n",
    "\n",
    "print(lr_fpr)\n",
    "print(lr_tpr)\n",
    "print(lr_thresholds)"
   ]
  },
  {
   "cell_type": "code",
   "execution_count": 87,
   "id": "4e0f8505",
   "metadata": {},
   "outputs": [],
   "source": [
    "# Setting up ROC Curve for tuned LogReg model\n",
    "lr_fpr_tr, lr_tpr_tr, lr_thresholds_tr = roc_curve(y_val, lr_tuned_val[0][:,1])"
   ]
  },
  {
   "cell_type": "code",
   "execution_count": 88,
   "id": "e533e352",
   "metadata": {},
   "outputs": [
    {
     "data": {
      "image/png": "[encoded data removed]",
      "text/plain": [
       "<Figure size 432x288 with 1 Axes>"
      ]
     },
     "metadata": {
      "needs_background": "light"
     },
     "output_type": "display_data"
    },
    {
     "name": "stdout",
     "output_type": "stream",
     "text": [
      "ROC AUC for Validation model is: 0.7036138444394794\n",
      "ROC AUC for Train set is: 0.705491662402516\n"
     ]
    }
   ],
   "source": [
    "plt.plot(lr_fpr, lr_tpr, lw='5', color='navy', label='Validation Set')\n",
    "plt.plot(lr_fpr_tr, lr_tpr_tr, lw='3', color='orange', ls='--', label='Train Set')\n",
    "\n",
    "plt.plot([0,1], [0,1], color='red', ls='dashed', lw='1')\n",
    "\n",
    "plt.xlim([0,1])\n",
    "plt.ylim([0,1])\n",
    "plt.xlabel('FP')\n",
    "plt.ylabel('TP')\n",
    "plt.grid(ls=':', lw='0.5')\n",
    "plt.legend()\n",
    "\n",
    "plt.show()\n",
    "\n",
    "print(f'ROC AUC for Validation model is: {roc_auc_score(y_val, lr_tuned_val[0][:,1])}')\n",
    "print(f'ROC AUC for Train set is: {roc_auc_score(y_train, lr_base[0][:,1])}')"
   ]
  },
  {
   "cell_type": "markdown",
   "id": "e93a679e",
   "metadata": {},
   "source": [
    "meh"
   ]
  },
  {
   "cell_type": "markdown",
   "id": "7de1bf88",
   "metadata": {},
   "source": [
    "## Oversampling the training set"
   ]
  },
  {
   "cell_type": "markdown",
   "id": "d3e75c0a",
   "metadata": {},
   "source": [
    "Apply Random Oversampling"
   ]
  },
  {
   "cell_type": "code",
   "execution_count": 89,
   "id": "2f604183",
   "metadata": {},
   "outputs": [
    {
     "name": "stdout",
     "output_type": "stream",
     "text": [
      "66456\n",
      "299646\n"
     ]
    }
   ],
   "source": [
    "print(np.sum((y_train == 1)))\n",
    "print(np.sum((y_train == 0)))"
   ]
  },
  {
   "cell_type": "code",
   "execution_count": 90,
   "id": "338ba31f",
   "metadata": {},
   "outputs": [],
   "source": [
    "from imblearn import over_sampling\n",
    "\n",
    "n_pos = np.sum((y_train == 1))\n",
    "n_neg = np.sum((y_train == 0))\n",
    "\n",
    "# Actual dataset contains chargeoff:paidinfull at around 1:5 ratio\n",
    "# Oversampling the positives(=chargeoffs)\n",
    "oversample_ratio = {1:n_pos * 4, 0:n_neg}\n",
    "\n",
    "ROS = over_sampling.RandomOverSampler(sampling_strategy=oversample_ratio, random_state=123)\n",
    "ROS.fit(X_tr_scale, y_train)\n",
    "X_tr_ros, y_tr_ros = ROS.fit_resample(X_tr_scale, y_train)\n",
    "\n",
    "#smt = over_sampling.SMOTE(sampling_strategy='minority', random_state=123)\n",
    "#smt.fit(X_tr_scale, y_train)\n",
    "#X_tr_smt, y_tr_smt = smt.fit_resample(X_tr_scale, y_train)"
   ]
  },
  {
   "cell_type": "code",
   "execution_count": 91,
   "id": "af1ac795",
   "metadata": {},
   "outputs": [
    {
     "name": "stdout",
     "output_type": "stream",
     "text": [
      "265824\n",
      "299646\n"
     ]
    }
   ],
   "source": [
    "print(np.sum((y_tr_ros == 1)))\n",
    "print(np.sum((y_tr_ros == 0)))"
   ]
  },
  {
   "cell_type": "code",
   "execution_count": 96,
   "id": "c44a1415",
   "metadata": {},
   "outputs": [],
   "source": [
    "# Create a new logreg classifier dedicated to oversampled train data\n",
    "logreg2_ros = LogisticRegression(solver='liblinear', C=0.1, penalty='l1', class_weight={1:1, 0:2}, max_iter=100)"
   ]
  },
  {
   "cell_type": "code",
   "execution_count": 97,
   "id": "a2c8def2",
   "metadata": {},
   "outputs": [
    {
     "name": "stdout",
     "output_type": "stream",
     "text": [
      "==============================================================================================================\n",
      "Analysis of the Model LogReg_ROS_Resample, Train \n",
      "-------------------------------------------------------------------\n",
      "- Model Score : 0.5409500061895415\n",
      "- Cost Function: 0.6652444447510992\n",
      "\n",
      "\n",
      "- Hard classification of the model LogReg_ROS_Resample, Train: [0 0 0 ... 0 0 0]\n",
      "- Soft classfication of the model LogReg_ROS_Resample, Train: [[0.86066728 0.13933272]\n",
      " [0.57497345 0.42502655]\n",
      " [0.98309001 0.01690999]\n",
      " ...\n",
      " [0.59011434 0.40988566]\n",
      " [0.56696174 0.43303826]\n",
      " [0.60683051 0.39316949]]\n",
      "--------------------------------------------------------------------------------------------------------------\n",
      "Classification metrics of the model LogReg_ROS_Resample, Train\n",
      "- Accuracy:  0.5409500061895415\n",
      "- Precision:  0.5648400024918496\n",
      "- Recall:  0.10232710364752619\n",
      "- F1 Score:  0.17326526127377137\n",
      "==============================================================================================================\n"
     ]
    }
   ],
   "source": [
    "lr_tuned_train_ros = lr_analysis(logreg2_ros, X_tr_ros, y_tr_ros, 'LogReg_ROS_Resample, Train')"
   ]
  },
  {
   "cell_type": "code",
   "execution_count": 98,
   "id": "84b488b0",
   "metadata": {},
   "outputs": [
    {
     "name": "stdout",
     "output_type": "stream",
     "text": [
      "==============================================================================================================\n",
      "Analysis of the Model LogReg_ROS_Resample, Validation \n",
      "-------------------------------------------------------------------\n",
      "- Model Score : 0.8202319006842299\n",
      "- Cost Function: 0.4588473781638278\n",
      "\n",
      "\n",
      "- Hard classification of the model LogReg_ROS_Resample, Validation: [0 0 0 ... 0 0 0]\n",
      "- Soft classfication of the model LogReg_ROS_Resample, Validation: [[0.98947521 0.01052479]\n",
      " [0.84669024 0.15330976]\n",
      " [0.94578243 0.05421757]\n",
      " ...\n",
      " [0.91154814 0.08845186]\n",
      " [0.84684774 0.15315226]\n",
      " [0.92201156 0.07798844]]\n",
      "--------------------------------------------------------------------------------------------------------------\n",
      "Classification metrics of the model LogReg_ROS_Resample, Validation\n",
      "- Accuracy:  0.8202319006842299\n",
      "- Precision:  0.9767441860465116\n",
      "- Recall:  0.0019109149642840893\n",
      "- F1 Score:  0.003814367450731087\n",
      "==============================================================================================================\n"
     ]
    }
   ],
   "source": [
    "lr_tuned_ros_val = lr_analysis(logreg2_ros, X_val_scale, y_val, 'LogReg_ROS_Resample, Validation')"
   ]
  },
  {
   "cell_type": "markdown",
   "id": "b36e5230",
   "metadata": {},
   "source": [
    "### Oversampling still yields poor recall and F1 score. So I will move on and try different classifiers."
   ]
  },
  {
   "cell_type": "markdown",
   "id": "b433f62e",
   "metadata": {},
   "source": [
    "# B. Random Forest"
   ]
  },
  {
   "cell_type": "code",
   "execution_count": 100,
   "id": "f47f985f",
   "metadata": {},
   "outputs": [],
   "source": [
    "rf_default = RandomForestClassifier()"
   ]
  },
  {
   "cell_type": "code",
   "execution_count": 101,
   "id": "e2d7106c",
   "metadata": {},
   "outputs": [],
   "source": [
    "rf_n_estimators = [5*i for i in range(8,30, 4)]\n",
    "rf_weight = ['balanced', {1 : 1, 0 : 2},{1 : 1, 0 : 3},{1 : 1, 0 : 4}, {1 : 1, 0 : 5} ]\n",
    "max_features = ['log2', 'sqrt', 'auto']  #For some reason 'None' doesnt work\n",
    "#max_depth = [2,5]\n",
    "min_samples_split = [2, 4]\n",
    "min_samples_leaf = [1, 2]\n",
    "bootstrap = [True, False]\n"
   ]
  },
  {
   "cell_type": "code",
   "execution_count": 103,
   "id": "81a4a0fb",
   "metadata": {},
   "outputs": [
    {
     "name": "stdout",
     "output_type": "stream",
     "text": [
      "{'n_estimators': [40, 60, 80, 100, 120, 140], 'class_weight': ['balanced', {1: 1, 0: 2}, {1: 1, 0: 3}, {1: 1, 0: 4}, {1: 1, 0: 5}], 'max_features': ['log2', 'sqrt', 'auto'], 'min_samples_split': [2, 4], 'min_samples_leaf': [1, 2], 'bootstrap': [True, False]}\n"
     ]
    }
   ],
   "source": [
    "# parameter grid\n",
    "\n",
    "param_grid_rf = {'n_estimators': rf_n_estimators,\n",
    "                 'class_weight': rf_weight,\n",
    "               'max_features': max_features,\n",
    "#               'max_depth': max_depth,\n",
    "               'min_samples_split': min_samples_split,\n",
    "               'min_samples_leaf': min_samples_leaf,\n",
    "               'bootstrap': bootstrap}\n",
    "\n",
    "print(param_grid_rf)"
   ]
  },
  {
   "cell_type": "code",
   "execution_count": 104,
   "id": "c1580df6",
   "metadata": {},
   "outputs": [],
   "source": [
    "rf_Grid = GridSearchCV(estimator = rf_default, param_grid = param_grid_rf, cv = 5, verbose=3, n_jobs = -2)"
   ]
  },
  {
   "cell_type": "code",
   "execution_count": 170,
   "id": "a3f4e4e0",
   "metadata": {},
   "outputs": [
    {
     "name": "stdout",
     "output_type": "stream",
     "text": [
      "Fitting 5 folds for each of 1440 candidates, totalling 7200 fits\n"
     ]
    },
    {
     "data": {
      "text/plain": [
       "GridSearchCV(cv=5, estimator=RandomForestClassifier(), n_jobs=-2,\n",
       "             param_grid={'bootstrap': [True, False],\n",
       "                         'class_weight': ['balanced', {0: 2, 1: 1},\n",
       "                                          {0: 3, 1: 1}, {0: 4, 1: 1},\n",
       "                                          {0: 5, 1: 1}],\n",
       "                         'max_depth': [2, 5],\n",
       "                         'max_features': ['log2', 'sqrt', 'auto'],\n",
       "                         'min_samples_leaf': [1, 2],\n",
       "                         'min_samples_split': [2, 4],\n",
       "                         'n_estimators': [40, 60, 80, 100, 120, 140]},\n",
       "             verbose=3)"
      ]
     },
     "execution_count": 170,
     "metadata": {},
     "output_type": "execute_result"
    }
   ],
   "source": [
    "rf_Grid.fit(X_tr_scale, y_train)"
   ]
  },
  {
   "cell_type": "code",
   "execution_count": null,
   "id": "7e3cedf7",
   "metadata": {},
   "outputs": [],
   "source": [
    "rf_Grid.best_params_"
   ]
  },
  {
   "cell_type": "markdown",
   "id": "2dbf6247",
   "metadata": {},
   "source": [
    "{'bootstrap': True,\n",
    " 'class_weight': {1: 1, 0: 2},\n",
    " 'max_depth': 2,\n",
    " 'max_features': 'log2',\n",
    " 'min_samples_leaf': 1,\n",
    " 'min_samples_split': 2,\n",
    " 'n_estimators': 60}"
   ]
  },
  {
   "cell_type": "markdown",
   "id": "6108925f",
   "metadata": {},
   "source": [
    "Interesting class weight..."
   ]
  },
  {
   "cell_type": "code",
   "execution_count": 85,
   "id": "09b22e6c",
   "metadata": {},
   "outputs": [],
   "source": [
    "# With class weight in effect\n",
    "#rf = RandomForestClassifier(bootstrap=True, max_depth = 5, max_features= 'log2', min_samples_leaf = 1, \n",
    "#                            min_samples_split = 2, n_estimators= 40, , class_weight = {1: 1, 0: 2}, random_state=123)\n",
    "rf = RandomForestClassifier(bootstrap=True, max_features= 'log2', min_samples_leaf = 1, \n",
    "                            min_samples_split = 2, n_estimators= 40, class_weight = {1: 1, 0: 2}, random_state=123)\n",
    "\n",
    "#max_depth=5 is causing some weird problem that reduced recall to near zero, so I will leave it out for now"
   ]
  },
  {
   "cell_type": "code",
   "execution_count": 86,
   "id": "01d3d5bf",
   "metadata": {},
   "outputs": [
    {
     "name": "stdout",
     "output_type": "stream",
     "text": [
      "==============================================================================================================\n",
      "Analysis of the Model  \n",
      "-------------------------------------------------------------------\n",
      "- Model Score : 0.9257556637221321\n",
      "- Cost Function: 0.2199303875148896\n",
      "\n",
      "\n",
      "- Hard classification of the model : [0 0 0 ... 0 0 1]\n",
      "- Soft classfication of the model : [[0.975      0.025     ]\n",
      " [0.92216332 0.07783668]\n",
      " [1.         0.        ]\n",
      " ...\n",
      " [0.82620249 0.17379751]\n",
      " [0.83972123 0.16027877]\n",
      " [0.175      0.825     ]]\n",
      "--------------------------------------------------------------------------------------------------------------\n",
      "Classification metrics of the model \n",
      "- Accuracy:  0.9257556637221321\n",
      "- Precision:  0.9726802262606812\n",
      "- Recall:  0.6080715059588299\n",
      "- F1 Score:  0.7483264043851445\n",
      "==============================================================================================================\n"
     ]
    }
   ],
   "source": [
    "rf_train = lr_analysis(rf, X_tr_scale, y_train)"
   ]
  },
  {
   "cell_type": "code",
   "execution_count": 87,
   "id": "0b36ffe4",
   "metadata": {},
   "outputs": [
    {
     "name": "stdout",
     "output_type": "stream",
     "text": [
      "==============================================================================================================\n",
      "Analysis of the Model Tuned RF, Validation \n",
      "-------------------------------------------------------------------\n",
      "- Model Score : 0.9392633260949728\n",
      "- Cost Function: 0.19371361972713355\n",
      "\n",
      "\n",
      "- Hard classification of the model Tuned RF, Validation: [0 0 0 ... 0 1 0]\n",
      "- Soft classfication of the model Tuned RF, Validation: [[1.         0.        ]\n",
      " [0.76214893 0.23785107]\n",
      " [1.         0.        ]\n",
      " ...\n",
      " [1.         0.        ]\n",
      " [0.3        0.7       ]\n",
      " [0.95000047 0.04999953]]\n",
      "--------------------------------------------------------------------------------------------------------------\n",
      "Classification metrics of the model Tuned RF, Validation\n",
      "- Accuracy:  0.9392633260949728\n",
      "- Precision:  0.9747115948641074\n",
      "- Recall:  0.6804222212111561\n",
      "- F1 Score:  0.8014039976421414\n",
      "==============================================================================================================\n"
     ]
    }
   ],
   "source": [
    "rf_val = lr_analysis(rf, X_val_scale, y_val, 'Tuned RF, Validation')"
   ]
  },
  {
   "cell_type": "code",
   "execution_count": 88,
   "id": "f89fb4c8",
   "metadata": {},
   "outputs": [
    {
     "data": {
      "image/png": "[encoded data removed]",
      "text/plain": [
       "<Figure size 432x288 with 1 Axes>"
      ]
     },
     "metadata": {
      "needs_background": "light"
     },
     "output_type": "display_data"
    },
    {
     "name": "stdout",
     "output_type": "stream",
     "text": [
      "ROC AUC for [Random Forest] model is: 0.9599417985785096\n"
     ]
    }
   ],
   "source": [
    "roc_rf = plot_roc('Random Forest', y_val, rf_val)"
   ]
  },
  {
   "cell_type": "markdown",
   "id": "ef39f5bc",
   "metadata": {},
   "source": [
    "This looks great, I think I won't bother with ROS set any further, as class weight given in RF seem to do enough job.\n",
    "<br>Still, let's test out other classifiers."
   ]
  },
  {
   "cell_type": "markdown",
   "id": "0c328764",
   "metadata": {},
   "source": [
    "# C. Naive Bayes"
   ]
  },
  {
   "cell_type": "code",
   "execution_count": 111,
   "id": "84d9735a",
   "metadata": {},
   "outputs": [],
   "source": [
    "nb = BernoulliNB()"
   ]
  },
  {
   "cell_type": "code",
   "execution_count": 112,
   "id": "82119b07",
   "metadata": {},
   "outputs": [
    {
     "data": {
      "text/plain": [
       "0.7103867228258791"
      ]
     },
     "execution_count": 112,
     "metadata": {},
     "output_type": "execute_result"
    }
   ],
   "source": [
    "nb.fit(X_tr_scale, y_train)\n",
    "nb.score(X_tr_scale, y_train)"
   ]
  },
  {
   "cell_type": "code",
   "execution_count": 113,
   "id": "7c862558",
   "metadata": {},
   "outputs": [
    {
     "name": "stdout",
     "output_type": "stream",
     "text": [
      "==============================================================================================================\n",
      "Analysis of the Model  \n",
      "-------------------------------------------------------------------\n",
      "- Model Score : 0.6879010120047527\n",
      "- Cost Function: 0.48409384018353085\n",
      "\n",
      "\n",
      "- Hard classification of the model : [0 0 0 ... 0 1 0]\n",
      "- Soft classfication of the model : [[0.94632359 0.05367641]\n",
      " [0.66924662 0.33075338]\n",
      " [0.97597634 0.02402366]\n",
      " ...\n",
      " [0.95245258 0.04754742]\n",
      " [0.49942327 0.50057673]\n",
      " [0.97597634 0.02402366]]\n",
      "--------------------------------------------------------------------------------------------------------------\n",
      "Classification metrics of the model \n",
      "- Accuracy:  0.6879010120047527\n",
      "- Precision:  0.26996458357134695\n",
      "- Recall:  0.4300468629146003\n",
      "- F1 Score:  0.33170149672755345\n",
      "==============================================================================================================\n"
     ]
    }
   ],
   "source": [
    "nb_val = lr_analysis(nb, X_val, y_val)"
   ]
  },
  {
   "cell_type": "code",
   "execution_count": 114,
   "id": "3741d9e9",
   "metadata": {},
   "outputs": [
    {
     "data": {
      "image/png": "[encoded data removed]",
      "text/plain": [
       "<Figure size 432x288 with 1 Axes>"
      ]
     },
     "metadata": {
      "needs_background": "light"
     },
     "output_type": "display_data"
    },
    {
     "name": "stdout",
     "output_type": "stream",
     "text": [
      "ROC AUC for [NB(Bernoulli) ROC] model is: 0.6982086203071656\n"
     ]
    }
   ],
   "source": [
    "roc_nb = plot_roc('NB(Bernoulli) ROC', y_val, nb_val)"
   ]
  },
  {
   "cell_type": "markdown",
   "id": "e47a210d",
   "metadata": {},
   "source": [
    "# D-1. AdaBoost"
   ]
  },
  {
   "cell_type": "code",
   "execution_count": 116,
   "id": "92b7361e",
   "metadata": {},
   "outputs": [],
   "source": [
    "ada = AdaBoostClassifier()"
   ]
  },
  {
   "cell_type": "code",
   "execution_count": 117,
   "id": "126fba68",
   "metadata": {},
   "outputs": [
    {
     "data": {
      "text/plain": [
       "0.8191105211116028"
      ]
     },
     "execution_count": 117,
     "metadata": {},
     "output_type": "execute_result"
    }
   ],
   "source": [
    "ada.fit(X_train, y_train)\n",
    "ada.score(X_train, y_train)"
   ]
  },
  {
   "cell_type": "code",
   "execution_count": 118,
   "id": "7de405c3",
   "metadata": {},
   "outputs": [
    {
     "name": "stdout",
     "output_type": "stream",
     "text": [
      "==============================================================================================================\n",
      "Analysis of the Model  \n",
      "-------------------------------------------------------------------\n",
      "- Model Score : 0.8205268980210595\n",
      "- Cost Function: 0.6780933835722462\n",
      "\n",
      "\n",
      "- Hard classification of the model : [0 0 0 ... 0 0 0]\n",
      "- Soft classfication of the model : [[0.51907338 0.48092662]\n",
      " [0.50226333 0.49773667]\n",
      " [0.51317967 0.48682033]\n",
      " ...\n",
      " [0.51269652 0.48730348]\n",
      " [0.50437095 0.49562905]\n",
      " [0.51317967 0.48682033]]\n",
      "--------------------------------------------------------------------------------------------------------------\n",
      "Classification metrics of the model \n",
      "- Accuracy:  0.8205268980210595\n",
      "- Precision:  0.592326139088729\n",
      "- Recall:  0.01123799990900405\n",
      "- F1 Score:  0.022057510269691015\n",
      "==============================================================================================================\n"
     ]
    }
   ],
   "source": [
    "ada_val = lr_analysis(ada, X_val, y_val)"
   ]
  },
  {
   "cell_type": "code",
   "execution_count": 119,
   "id": "d651c0e7",
   "metadata": {},
   "outputs": [
    {
     "data": {
      "image/png": "[encoded data removed]",
      "text/plain": [
       "<Figure size 432x288 with 1 Axes>"
      ]
     },
     "metadata": {
      "needs_background": "light"
     },
     "output_type": "display_data"
    },
    {
     "name": "stdout",
     "output_type": "stream",
     "text": [
      "ROC AUC for [AdaBoost ROC] model is: 0.7451726366689315\n"
     ]
    }
   ],
   "source": [
    "roc_ada = plot_roc('AdaBoost ROC', y_val, ada_val)"
   ]
  },
  {
   "cell_type": "markdown",
   "id": "114ae8ca",
   "metadata": {},
   "source": [
    "# D-2. XGBoost"
   ]
  },
  {
   "cell_type": "code",
   "execution_count": 120,
   "id": "f16ed467",
   "metadata": {},
   "outputs": [],
   "source": [
    "xgb = XGBClassifier(use_label_encoder=False)"
   ]
  },
  {
   "cell_type": "code",
   "execution_count": 121,
   "id": "8e5aded9",
   "metadata": {},
   "outputs": [
    {
     "name": "stdout",
     "output_type": "stream",
     "text": [
      "[23:32:05] WARNING: D:\\bld\\xgboost-split_1645118015404\\work\\src\\learner.cc:1115: Starting in XGBoost 1.3.0, the default evaluation metric used with the objective 'binary:logistic' was changed from 'error' to 'logloss'. Explicitly set eval_metric if you'd like to restore the old behavior.\n"
     ]
    },
    {
     "data": {
      "text/plain": [
       "0.8254011177212908"
      ]
     },
     "execution_count": 121,
     "metadata": {},
     "output_type": "execute_result"
    }
   ],
   "source": [
    "xgb.fit(X_train, y_train)\n",
    "xgb.score(X_train, y_train)"
   ]
  },
  {
   "cell_type": "code",
   "execution_count": 122,
   "id": "cfe3143a",
   "metadata": {},
   "outputs": [
    {
     "name": "stdout",
     "output_type": "stream",
     "text": [
      "[23:32:13] WARNING: D:\\bld\\xgboost-split_1645118015404\\work\\src\\learner.cc:1115: Starting in XGBoost 1.3.0, the default evaluation metric used with the objective 'binary:logistic' was changed from 'error' to 'logloss'. Explicitly set eval_metric if you'd like to restore the old behavior.\n",
      "==============================================================================================================\n",
      "Analysis of the Model  \n",
      "-------------------------------------------------------------------\n",
      "- Model Score : 0.8294669562010899\n",
      "- Cost Function: 0.38043251109040216\n",
      "\n",
      "\n",
      "- Hard classification of the model : [0 0 0 ... 0 0 0]\n",
      "- Soft classfication of the model : [[9.9989724e-01 1.0276897e-04]\n",
      " [5.6021178e-01 4.3978819e-01]\n",
      " [9.2055482e-01 7.9445191e-02]\n",
      " ...\n",
      " [9.3585283e-01 6.4147152e-02]\n",
      " [5.3478104e-01 4.6521896e-01]\n",
      " [9.4459176e-01 5.5408251e-02]]\n",
      "--------------------------------------------------------------------------------------------------------------\n",
      "Classification metrics of the model \n",
      "- Accuracy:  0.8294669562010899\n",
      "- Precision:  0.6531200839014158\n",
      "- Recall:  0.11333545657218254\n",
      "- F1 Score:  0.1931531810956461\n",
      "==============================================================================================================\n"
     ]
    }
   ],
   "source": [
    "xgb_val = lr_analysis(xgb, X_val, y_val)"
   ]
  },
  {
   "cell_type": "code",
   "execution_count": 123,
   "id": "84b337dd",
   "metadata": {},
   "outputs": [
    {
     "data": {
      "image/png": "[encoded data removed]",
      "text/plain": [
       "<Figure size 432x288 with 1 Axes>"
      ]
     },
     "metadata": {
      "needs_background": "light"
     },
     "output_type": "display_data"
    },
    {
     "name": "stdout",
     "output_type": "stream",
     "text": [
      "ROC AUC for [XGB ROC] model is: 0.8001598862587722\n"
     ]
    }
   ],
   "source": [
    "roc_xgb = plot_roc('XGB ROC', y_val, xgb_val)"
   ]
  },
  {
   "cell_type": "markdown",
   "id": "b8117603",
   "metadata": {},
   "source": [
    "# E. Comparison of the models"
   ]
  },
  {
   "cell_type": "markdown",
   "id": "3686efdd",
   "metadata": {},
   "source": [
    "RandomForest yielded the best result.\n",
    "I will give a visual comparison among different models with ROC chart below:"
   ]
  },
  {
   "cell_type": "code",
   "execution_count": 90,
   "id": "0ea28a9f",
   "metadata": {},
   "outputs": [
    {
     "data": {
      "image/png": "[encoded data removed]",
      "text/plain": [
       "<Figure size 792x792 with 1 Axes>"
      ]
     },
     "metadata": {
      "needs_background": "light"
     },
     "output_type": "display_data"
    }
   ],
   "source": [
    "f = plt.figure()\n",
    "f.set_figwidth(11)\n",
    "f.set_figheight(11)\n",
    "\n",
    "plt.plot(roc_xgb[0], roc_xgb[1], lw='6', color='black', label='XGBoost')\n",
    "plt.plot(roc_ada[0], roc_ada[1], lw='6', color='violet', label='AdaBoost')\n",
    "plt.plot(roc_nb[0], roc_nb[1], lw='5', color='navy', ls='--', label='NB (Bernoulli)')\n",
    "plt.plot(roc_rf[0], roc_rf[1], lw='7', color='blue', label='Random Forest')\n",
    "plt.plot(roc_lr_tune[0], roc_lr_tune[1], lw='3', color='green', ls='--', label='LogReg (Tuned)')\n",
    "plt.plot(roc_lr_base[0], roc_lr_base[1], lw='2', color='orange', label='LogReg (Baseline)')\n",
    "\n",
    "plt.plot([0,1], [0,1], color='red', ls='dashed', lw='1')\n",
    "\n",
    "plt.xlim([0,1])\n",
    "plt.ylim([0,1])\n",
    "plt.xlabel('FP')\n",
    "plt.ylabel('TP')\n",
    "plt.grid(ls=':', lw='0.5')\n",
    "plt.legend()\n",
    "\n",
    "\n",
    "plt.show()"
   ]
  },
  {
   "cell_type": "markdown",
   "id": "a8a104fa",
   "metadata": {},
   "source": [
    "Also, let's compare model scores."
   ]
  },
  {
   "cell_type": "code",
   "execution_count": 91,
   "id": "35cbdf39",
   "metadata": {},
   "outputs": [
    {
     "name": "stdout",
     "output_type": "stream",
     "text": [
      "Score of Baseline is: 0.8202646781660999\n",
      "Score of Tuned LogReg is: 0.8202319006842299\n",
      "Score of Random Forest is: 0.9392633260949728\n",
      "Score of Naive Bayes(Bernoulli) is: 0.6879010120047527\n",
      "Score of XGBoost is: 0.8294669562010899\n",
      "Score of AdaBoost is: 0.8205268980210595\n",
      "\n",
      "\n",
      "The score of the best model [Random Forest] would be: 0.9392633260949728, which is an improvement from baseline score 0.8202646781660999\n"
     ]
    }
   ],
   "source": [
    "val_model_list = [('Baseline',lr_val_base), ('Tuned LogReg', lr_tuned_val), ('Random Forest', rf_val),\n",
    "                  ('Naive Bayes(Bernoulli)', nb_val), ('XGBoost', xgb_val), ('AdaBoost', ada_val)]\n",
    "score_list = []\n",
    "for i in range(len(val_model_list)):\n",
    "    print(f'Score of {val_model_list[i][0]} is: {val_model_list[i][1][1]}')\n",
    "    score_list.append(val_model_list[i][1][1])\n",
    "    \n",
    "print('\\n')    \n",
    "for j in range(len(val_model_list)):\n",
    "    if val_model_list[j][1][1] == max(score_list):\n",
    "        print(f'The score of the best model [{val_model_list[j][0]}] would be: {max(score_list)}, which is an improvement from baseline score {val_model_list[0][1][1]}')\n",
    "    else:\n",
    "        pass\n",
    "\n",
    "    "
   ]
  },
  {
   "cell_type": "markdown",
   "id": "ff8cd0d7",
   "metadata": {},
   "source": [
    "#  =================================================\n"
   ]
  },
  {
   "cell_type": "markdown",
   "id": "82f923f0",
   "metadata": {},
   "source": [
    "# 3. Testing the Champion Model"
   ]
  },
  {
   "cell_type": "code",
   "execution_count": 92,
   "id": "cc8c6a4e",
   "metadata": {},
   "outputs": [
    {
     "name": "stdout",
     "output_type": "stream",
     "text": [
      "==============================================================================================================\n",
      "Analysis of the Model  \n",
      "-------------------------------------------------------------------\n",
      "- Model Score : 0.9385258327528988\n",
      "- Cost Function: 0.19365116165969376\n",
      "\n",
      "\n",
      "- Hard classification of the model : [0 0 0 ... 0 0 0]\n",
      "- Soft classfication of the model : [[1.       0.      ]\n",
      " [0.939185 0.060815]\n",
      " [0.8      0.2     ]\n",
      " ...\n",
      " [1.       0.      ]\n",
      " [1.       0.      ]\n",
      " [0.9      0.1     ]]\n",
      "--------------------------------------------------------------------------------------------------------------\n",
      "Classification metrics of the model \n",
      "- Accuracy:  0.9385258327528988\n",
      "- Precision:  0.9704233520201044\n",
      "- Recall:  0.6813554721078586\n",
      "- F1 Score:  0.8005953963106693\n",
      "==============================================================================================================\n"
     ]
    }
   ],
   "source": [
    "rf_test = lr_analysis(rf, X_te_scale, y_test)"
   ]
  },
  {
   "cell_type": "code",
   "execution_count": 93,
   "id": "5cd8d703",
   "metadata": {},
   "outputs": [
    {
     "data": {
      "image/png": "[encoded data removed]",
      "text/plain": [
       "<Figure size 432x288 with 1 Axes>"
      ]
     },
     "metadata": {
      "needs_background": "light"
     },
     "output_type": "display_data"
    },
    {
     "name": "stdout",
     "output_type": "stream",
     "text": [
      "ROC AUC for [Test Dataset with RF] model is: 0.9606761831633712\n"
     ]
    }
   ],
   "source": [
    "roc_rf_test = plot_roc('Test Dataset with RF', y_test, rf_test)"
   ]
  },
  {
   "cell_type": "markdown",
   "id": "08266039",
   "metadata": {},
   "source": [
    "# 4. Conclusion - Tuned RandomForest"
   ]
  },
  {
   "cell_type": "code",
   "execution_count": 94,
   "id": "ba105277",
   "metadata": {},
   "outputs": [
    {
     "data": {
      "image/png": "[encoded data removed]",
      "text/plain": [
       "<Figure size 432x288 with 1 Axes>"
      ]
     },
     "metadata": {
      "needs_background": "light"
     },
     "output_type": "display_data"
    }
   ],
   "source": [
    "fpr, tpr, thresholds = roc_curve(y_test, rf_test[0][:,1])\n",
    "\n",
    "plt.plot([0.5,0.5], [0,1], color='orange', ls='dashed', lw='1')\n",
    "plt.plot(fpr, thresholds, lw='5', color='red', label='FP')\n",
    "plt.plot(tpr, thresholds, lw='5', color='navy', label='TP')\n",
    "\n",
    "plt.xlim([0,1])\n",
    "plt.ylim([0,1])\n",
    "plt.xlabel('Threshold')\n",
    "plt.ylabel('TP, FP')\n",
    "plt.grid(ls=':', lw='0.5')\n",
    "plt.legend()\n",
    "\n",
    "plt.show()\n"
   ]
  },
  {
   "cell_type": "code",
   "execution_count": 95,
   "id": "b96a8f7b",
   "metadata": {},
   "outputs": [
    {
     "data": {
      "text/plain": [
       "<matplotlib.legend.Legend at 0x17a00d67430>"
      ]
     },
     "execution_count": 95,
     "metadata": {},
     "output_type": "execute_result"
    },
    {
     "data": {
      "image/png": "[encoded data removed]",
      "text/plain": [
       "<Figure size 432x288 with 1 Axes>"
      ]
     },
     "metadata": {
      "needs_background": "light"
     },
     "output_type": "display_data"
    }
   ],
   "source": [
    "p_curve, r_curve, t_curve = precision_recall_curve(y_test, rf_test[0][:,1])\n",
    "\n",
    "plt.plot(t_curve, p_curve[:-1], color=\"b\", label=\"Precision\")\n",
    "plt.plot(t_curve, r_curve[:-1], color=\"r\", label=\"Recall\")\n",
    "\n",
    "plt.ylabel(\"Precision, Recall\")\n",
    "plt.xlabel(\"Threshold\")\n",
    "plt.xlim([0,1])\n",
    "plt.legend()"
   ]
  },
  {
   "cell_type": "markdown",
   "id": "22488cf2",
   "metadata": {},
   "source": [
    "If needed, threshold can be tuned via refering to the graph above"
   ]
  },
  {
   "cell_type": "code",
   "execution_count": 102,
   "id": "664d0e11",
   "metadata": {},
   "outputs": [
    {
     "name": "stdout",
     "output_type": "stream",
     "text": [
      "0.9293973040521162\n",
      "0.8050391278780477\n",
      "0.805184816540741\n",
      "0.8051119656186383\n"
     ]
    }
   ],
   "source": [
    "# Brute-force tuning threshold from above chart\n",
    "\n",
    "pred_threshold_tune = (rf_test[0][:,1] >= 0.3133).astype('int')\n",
    "\n",
    "prec_threshold = precision_score(y_test, pred_threshold_tune)\n",
    "recall_threshold = recall_score(y_test, pred_threshold_tune)\n",
    "acc_threshold = accuracy_score(y_test, pred_threshold_tune)\n",
    "f1_threshold = f1_score(y_test, pred_threshold_tune)\n",
    "\n",
    "print(acc_threshold)\n",
    "print(prec_threshold)\n",
    "print(recall_threshold)\n",
    "print(f1_threshold)"
   ]
  },
  {
   "cell_type": "markdown",
   "id": "76ab92a2",
   "metadata": {},
   "source": [
    "## Confusion Matrix of the Test Set"
   ]
  },
  {
   "cell_type": "markdown",
   "id": "c3c03721",
   "metadata": {},
   "source": [
    "At the default threshold false positive is quite low, even though recall might suffer somewhat. <br>\n",
    "Whether or not to apply threshold tuning may be up to interpretaion; for example, SBA might value minimizing wrongfully rejecting loans to eligible businesses than minimizing risky lendings."
   ]
  },
  {
   "cell_type": "code",
   "execution_count": 101,
   "id": "06bcdb1a",
   "metadata": {},
   "outputs": [
    {
     "data": {
      "image/png": "[encoded data removed]",
      "text/plain": [
       "<Figure size 432x288 with 2 Axes>"
      ]
     },
     "metadata": {
      "needs_background": "light"
     },
     "output_type": "display_data"
    }
   ],
   "source": [
    "testmodel_cm_maker(rf_test,0.5)"
   ]
  },
  {
   "cell_type": "markdown",
   "id": "f6704350",
   "metadata": {},
   "source": [
    "## Evaluating the Improvements Over 'Baseline' Model"
   ]
  },
  {
   "cell_type": "code",
   "execution_count": 3,
   "id": "f7847763",
   "metadata": {},
   "outputs": [
    {
     "name": "stdout",
     "output_type": "stream",
     "text": [
      "======================================================================================================\n",
      "Comparing model score of [Tuned Random Forest] with the base model [Default LogReg] \n",
      "------------------------------------------------------------------------------------------------------\n",
      "ΔScore: 0.11826115458679887\n",
      "ΔAccuracy: 0.11826115458679887\n",
      "ΔPrecision: -0.008300052235214683\n",
      "ΔRecall: 0.6792625652422142\n",
      "ΔF1: 0.7964185144437848\n",
      "======================================================================================================\n"
     ]
    }
   ],
   "source": [
    "metric_comp(lr_val_base, rf_test, 'Default LogReg', 'Tuned Random Forest')"
   ]
  },
  {
   "cell_type": "markdown",
   "id": "907684af",
   "metadata": {},
   "source": [
    "- Accuracy has increased by about 0.12\n",
    "- Precision stayed about the same\n",
    "- Dramatic imporovement was observed in recall (and F1 score as a result)"
   ]
  }
 ],
 "metadata": {
  "kernelspec": {
   "display_name": "Python 3 (ipykernel)",
   "language": "python",
   "name": "python3"
  },
  "language_info": {
   "codemirror_mode": {
    "name": "ipython",
    "version": 3
   },
   "file_extension": ".py",
   "mimetype": "text/x-python",
   "name": "python",
   "nbconvert_exporter": "python",
   "pygments_lexer": "ipython3",
   "version": "3.9.7"
  }
 },
 "nbformat": 4,
 "nbformat_minor": 5
}
